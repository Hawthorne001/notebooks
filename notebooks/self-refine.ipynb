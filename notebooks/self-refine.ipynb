{
  "cells": [
    {
      "cell_type": "markdown",
      "metadata": {
        "id": "kPohBj-rA5D1"
      },
      "source": [
        "# Agentic Workflows\n",
        "> Self Refine\n",
        "\n",
        "![](https://raw.githubusercontent.com/madaan/self-refine/main/docs/static/images/animation_oldstyle_oneloop.gif)\n",
        "\n",
        "[paper](https://arxiv.org/pdf/2303.17651.pdf)\n",
        "\n",
        "[Hemanth HM](https://h3manth.com)"
      ]
    },
    {
      "cell_type": "markdown",
      "metadata": {
        "id": "rPwyzpb5A_LH"
      },
      "source": [
        "# Install Deps"
      ]
    },
    {
      "cell_type": "code",
      "execution_count": null,
      "metadata": {
        "id": "9z5YW-fppUrQ"
      },
      "outputs": [],
      "source": [
        "!pip install -q -U langchain\n",
        "!pip install --quiet langchain-google-genai"
      ]
    },
    {
      "cell_type": "markdown",
      "metadata": {
        "id": "rK5OslJdBSTI"
      },
      "source": [
        "## Helper Functions"
      ]
    },
    {
      "cell_type": "code",
      "execution_count": 44,
      "metadata": {
        "id": "GIe0Ywo_BUm4"
      },
      "outputs": [],
      "source": [
        "import pathlib\n",
        "import textwrap\n",
        "\n",
        "\n",
        "from IPython.display import display\n",
        "from IPython.display import Markdown\n",
        "\n",
        "\n",
        "def to_markdown(text):\n",
        "  text = text.replace('•', '  *')\n",
        "  return Markdown(textwrap.indent(text, '> ', predicate=lambda _: True))"
      ]
    },
    {
      "cell_type": "markdown",
      "metadata": {
        "id": "I4VR8cE4A45a"
      },
      "source": [
        "## Set up the Keys"
      ]
    },
    {
      "cell_type": "code",
      "execution_count": 12,
      "metadata": {
        "id": "1L6nJQeLBzDK"
      },
      "outputs": [],
      "source": [
        "from google.colab import userdata\n",
        "import os\n",
        "GOOGLE_API_KEY = userdata.get('GOOGLE_API_KEY')\n",
        "os.environ[\"GOOGLE_API_KEY\"] = GOOGLE_API_KEY"
      ]
    },
    {
      "cell_type": "markdown",
      "metadata": {
        "id": "BGYcZ1N5qHzJ"
      },
      "source": [
        "## *Instantiate* gemini-pro\n",
        "\n"
      ]
    },
    {
      "cell_type": "code",
      "execution_count": 11,
      "metadata": {
        "id": "tRfXSEHSpY65"
      },
      "outputs": [],
      "source": [
        "from langchain_google_genai import ChatGoogleGenerativeAI\n",
        "llm = ChatGoogleGenerativeAI(model=\"gemini-pro\")"
      ]
    },
    {
      "cell_type": "markdown",
      "metadata": {
        "id": "3ETKmwSiqS91"
      },
      "source": [
        "# Prompts"
      ]
    },
    {
      "cell_type": "code",
      "execution_count": 7,
      "metadata": {
        "id": "STnLztGIqAOX"
      },
      "outputs": [],
      "source": [
        "from langchain import PromptTemplate"
      ]
    },
    {
      "cell_type": "code",
      "execution_count": 59,
      "metadata": {
        "id": "ffgZKpuRq6Ks"
      },
      "outputs": [],
      "source": [
        "programmer = PromptTemplate.from_template(\"\"\"\n",
        "Prompt:\n",
        "You are an AI code generator trained on a massive dataset of code and capable of producing high-quality, functional code in various programming languages.\n",
        "Your task is to write code that performs the following function:\n",
        "{Task}\n",
        "Please consider the following factors when writing the code:\n",
        "Efficiency: The code should be efficient and optimized for performance.\n",
        "Readability: The code should be easy to understand and follow, with meaningful variable and function names and proper formatting.\n",
        "Maintainability: The code should be modular and well-organized, allowing for easy modification and extension in the future.\n",
        "Security: The code should be free of potential security vulnerabilities.\n",
        "Best practices: The code should follow established best practices for the chosen programming language and framework.\n",
        "Additionally, please provide comments within the code to explain its functionality and logic.\n",
        "I look forward to reviewing the code you generate!\n",
        "Example:\n",
        "Desired functionality: Write a Python function that takes a list of integers as input and returns the sum of all even numbers in the list.\n",
        "Considerations:\n",
        "Programming language: Python\n",
        "Efficiency: Use an efficient algorithm for iterating through the list and checking for even numbers.\n",
        "Readability: Use meaningful variable names and comments to explain the logic.\n",
        "Maintainability: The function should be self-contained and easy to modify.\n",
        "Just respond with only the code, DO NOT give any explaination or comments.\n",
        "\"\"\")"
      ]
    },
    {
      "cell_type": "code",
      "source": [
        "reviewer = PromptTemplate.from_template(\"\"\"\n",
        "Critique the following code and identify any errors. Suggest how to fix the errors and improve the code.\n",
        "\n",
        "CODE:\n",
        "{code}\n",
        "Please provide the following information in your response:\n",
        "Programming language: Identify the programming language of the code.\n",
        "Functionality: Briefly describe what the code is intended to do.\n",
        "Errors: List any errors you find in the code, including syntax errors, logic errors, and potential runtime errors.\n",
        "Fixes: Suggest specific fixes for the identified errors.\n",
        "Improvements: Recommend ways to improve the code's readability, efficiency, or maintainability.\n",
        "Example:\n",
        "def sum(a b):\n",
        "  return a + b\n",
        "Use code with caution.\n",
        "Critique:\n",
        "Programming language: Python\n",
        "Functionality: This code defines a function called sum that takes two arguments and returns their sum.\n",
        "Errors:\n",
        "Syntax error: Missing comma between arguments in the function definition.\n",
        "Fixes:\n",
        "Add a comma between a and b in the function definition: def sum(a, b):\n",
        "Improvements:\n",
        "Add type hints to the function arguments and return value for better readability and type checking.\n",
        "Revised code:\n",
        "def sum(a: int, b: int) -> int:\n",
        "  return a + b\n",
        "\"\"\")"
      ],
      "metadata": {
        "id": "GqC2sULVfHMq"
      },
      "execution_count": 77,
      "outputs": []
    },
    {
      "cell_type": "code",
      "source": [
        "refiner = PromptTemplate.from_template(\"\"\"\n",
        "Apply the below suggestion to improve the code.\n",
        "{code}\n",
        "{suggestion}\n",
        "\"\"\")"
      ],
      "metadata": {
        "id": "PX2Qaxe3BFXq"
      },
      "execution_count": 71,
      "outputs": []
    },
    {
      "cell_type": "markdown",
      "source": [
        "## Chains"
      ],
      "metadata": {
        "id": "CxB38egBIKMj"
      }
    },
    {
      "cell_type": "code",
      "execution_count": 78,
      "metadata": {
        "id": "Z70o92S81Q24"
      },
      "outputs": [],
      "source": [
        "# Setup the chains\n",
        "from langchain.schema import StrOutputParser\n",
        "\n",
        "output_parser = StrOutputParser()\n",
        "\n",
        "programmer = programmer | llm | output_parser\n",
        "reviewer = reviewer | llm | output_parser\n",
        "refiner = refiner | llm | output_parser"
      ]
    },
    {
      "cell_type": "markdown",
      "source": [
        "# Input"
      ],
      "metadata": {
        "id": "SSRwUo11IT7l"
      }
    },
    {
      "cell_type": "code",
      "source": [
        "result = programmer.invoke({\"Task\":\"Generate the nth Fib number\"})\n",
        "print(result)"
      ],
      "metadata": {
        "id": "DdkUK2JwIOty",
        "outputId": "523f7557-ce4b-4110-ac3f-9bbd691c8ae0",
        "colab": {
          "base_uri": "https://localhost:8080/"
        }
      },
      "execution_count": 82,
      "outputs": [
        {
          "output_type": "stream",
          "name": "stdout",
          "text": [
            "**Understanding the Fibonacci Sequence**:\n",
            "\n",
            "The Fibonacci sequence is a series of numbers where each number is the sum of the two preceding ones, typically starting with 0 and 1. The sequence goes like this:\n",
            "\n",
            "```\n",
            "0, 1, 1, 2, 3, 5, 8, 13, 21, 34, ...\n",
            "```\n",
            "\n",
            "**Recursive Approach**:\n",
            "\n",
            "The `fib` function calculates the nth Fibonacci number using a recursive approach. Here's how it works:\n",
            "\n",
            "1. **Base Cases**: The function checks if `n` is less than or equal to 1. If it is, it returns `n` itself. This is because the first two Fibonacci numbers are 0 and 1.\n",
            "\n",
            "2. **Recursive Calls**: If `n` is greater than 1, the function makes two recursive calls:\n",
            "   - `fib(n-1)`: This calculates the (n-1)th Fibonacci number.\n",
            "   - `fib(n-2)`: This calculates the (n-2)th Fibonacci number.\n",
            "\n",
            "3. **Summation**: The function then adds the results of the two recursive calls. This effectively calculates the nth Fibonacci number by summing the (n-1)th and (n-2)th Fibonacci numbers.\n",
            "\n",
            "**Example**:\n",
            "\n",
            "Let's say we want to calculate the 5th Fibonacci number using this function. Here's how the recursive calls would occur:\n",
            "\n",
            "- `fib(5)` is called, and `n` is not less than or equal to 1.\n",
            "- `fib(5)` makes a recursive call to `fib(4)`.\n",
            "- `fib(4)` makes a recursive call to `fib(3)`.\n",
            "- `fib(3)` makes a recursive call to `fib(2)`.\n",
            "- `fib(2)` makes a recursive call to `fib(1)`.\n",
            "- `fib(1)` returns 1 (the base case).\n",
            "- `fib(2)` returns 1 + 0 (the result of `fib(1)`).\n",
            "- `fib(3)` returns 1 + 1 (the result of `fib(2)`).\n",
            "- `fib(4)` returns 1 + 1 (the result of `fib(3)`).\n",
            "- `fib(5)` returns 1 + 1 (the result of `fib(4)`).\n",
            "\n",
            "Therefore, `fib(5)` returns 5, which is the 5th Fibonacci number.\n",
            "\n",
            "**Note**: Recursive solutions to Fibonacci can be inefficient for large values of `n` due to the exponential number of recursive calls. For more efficient solutions, consider using memoization, matrix exponentiation, or Binet's formula.\n"
          ]
        }
      ]
    },
    {
      "cell_type": "markdown",
      "source": [
        "# Critic"
      ],
      "metadata": {
        "id": "jIldw5BtIWEK"
      }
    },
    {
      "cell_type": "code",
      "source": [
        "critic = reviewer.invoke({\"code\":result})\n",
        "to_markdown(critic)"
      ],
      "metadata": {
        "colab": {
          "base_uri": "https://localhost:8080/",
          "height": 819
        },
        "id": "cAeZlGQspPyH",
        "outputId": "2cda82be-e5db-45a1-a045-5824fdb0f44a"
      },
      "execution_count": 83,
      "outputs": [
        {
          "output_type": "execute_result",
          "data": {
            "text/plain": [
              "<IPython.core.display.Markdown object>"
            ],
            "text/markdown": "> **Programming Language:** Python\n> \n> **Functionality:** The code defines a function called `fib` that calculates the nth Fibonacci number using a recursive approach.\n> \n> **Errors:**\n> \n> 1. **Syntax Error:** The `fib` function is missing a colon (`:`) at the end of its definition.\n> \n> 2. **Logic Error:** The base cases in the function are incorrect. The first Fibonacci number is 0, not 1.\n> \n> 3. **Potential Runtime Error:** The recursive approach can lead to exponential time complexity for large values of `n`, resulting in a stack overflow error.\n> \n> **Fixes:**\n> \n> 1. Add a colon at the end of the `fib` function definition.\n> 2. Update the base cases to:\n>    ```\n>    if n <= 0:\n>        return n\n>    elif n == 1:\n>        return 1\n>    ```\n> 3. Consider using a more efficient approach for large values of `n`, such as memoization or matrix exponentiation.\n> \n> **Improvements:**\n> \n> 1. **Readability:** Add comments to explain the purpose of the function and its arguments.\n> 2. **Efficiency:** Replace the recursive approach with an iterative approach or use memoization to avoid redundant calculations.\n> 3. **Maintainability:** Add type annotations to the function arguments and return value for better code readability and type checking.\n> \n> **Revised Code:**\n> \n> ```python\n> def fib(n: int) -> int:\n>     \"\"\"\n>     Calculates the nth Fibonacci number using an iterative approach.\n> \n>     Args:\n>         n (int): The index of the Fibonacci number to calculate.\n> \n>     Returns:\n>         int: The nth Fibonacci number.\n>     \"\"\"\n> \n>     fib_sequence = [0, 1]\n> \n>     while len(fib_sequence) <= n:\n>         next_fib = fib_sequence[-1] + fib_sequence[-2]\n>         fib_sequence.append(next_fib)\n> \n>     return fib_sequence[n]\n> ```"
          },
          "metadata": {},
          "execution_count": 83
        }
      ]
    },
    {
      "cell_type": "markdown",
      "source": [
        "# Refine"
      ],
      "metadata": {
        "id": "t1Yuo42iIZ5j"
      }
    },
    {
      "cell_type": "code",
      "source": [
        "code = refiner.invoke({\"code\":result, \"suggestion\":critic})\n",
        "to_markdown(code)"
      ],
      "metadata": {
        "colab": {
          "base_uri": "https://localhost:8080/",
          "height": 696
        },
        "id": "6uphfgcmBlAK",
        "outputId": "285295ea-93c6-4252-f7a4-b38d4b8f0580"
      },
      "execution_count": 84,
      "outputs": [
        {
          "output_type": "execute_result",
          "data": {
            "text/plain": [
              "<IPython.core.display.Markdown object>"
            ],
            "text/markdown": "> **Improved Code with Additional Comments and Type Hints:**\n> \n> ```python\n> from typing import List\n> \n> def fib(n: int) -> int:\n>     \"\"\"\n>     Calculates the nth Fibonacci number using an iterative approach.\n> \n>     Args:\n>         n (int): The index of the Fibonacci number to calculate.\n> \n>     Returns:\n>         int: The nth Fibonacci number.\n>     \"\"\"\n> \n>     # Base cases:\n>     if n <= 0:\n>         return 0\n>     elif n == 1:\n>         return 1\n> \n>     # Initialize the Fibonacci sequence with the first two numbers.\n>     fib_sequence: List[int] = [0, 1]\n> \n>     # Iterate until the Fibonacci sequence has at least n+1 elements.\n>     while len(fib_sequence) <= n:\n>         # Calculate the next Fibonacci number by adding the last two numbers in the sequence.\n>         next_fib = fib_sequence[-1] + fib_sequence[-2]\n>         # Append the next Fibonacci number to the sequence.\n>         fib_sequence.append(next_fib)\n> \n>     # Return the nth Fibonacci number.\n>     return fib_sequence[n]\n> ```\n> \n> **Additional Comments and Type Hints:**\n> \n> 1. Added type hints to the function parameters and return value.\n> 2. Changed the type of the `fib_sequence` variable to `List[int]` to make it clear that it is a list of integers.\n> 3. Added comments to explain the purpose of the `fib_sequence` variable."
          },
          "metadata": {},
          "execution_count": 84
        }
      ]
    },
    {
      "cell_type": "markdown",
      "source": [
        "# Loop"
      ],
      "metadata": {
        "id": "U_KT-Jx1ML_Q"
      }
    },
    {
      "cell_type": "code",
      "source": [
        "while True:\n",
        "    result = programmer.invoke({\"Task\":\"Find the cube root of a number.\"})\n",
        "    to_markdown(result)\n",
        "    critic = reviewer.invoke({\"code\":result})\n",
        "    to_markdown(critic)\n",
        "    code = refiner.invoke({\"code\":result, \"suggestion\":critic})\n",
        "    to_markdown(code)\n",
        "    # decide when to break :D"
      ],
      "metadata": {
        "id": "Plyh_d3AMLfy"
      },
      "execution_count": null,
      "outputs": []
    }
  ],
  "metadata": {
    "colab": {
      "name": "PaLM2 + Langchain",
      "provenance": []
    },
    "kernelspec": {
      "display_name": "Python 3",
      "name": "python3"
    },
    "language_info": {
      "name": "python",
      "version": "3.10.13"
    }
  },
  "nbformat": 4,
  "nbformat_minor": 0
}

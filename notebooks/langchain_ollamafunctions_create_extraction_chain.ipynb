{
 "cells": [
  {
   "cell_type": "markdown",
   "id": "50d7ccef",
   "metadata": {},
   "source": [
    "### create_extraction_chain using OllamaFunctions + Mistal \n",
    "[Hemanth HM](https://h3manth.com)"
   ]
  },
  {
   "cell_type": "code",
   "execution_count": 2,
   "id": "ad1651c2-0496-4ec0-afb7-bd39c0646bcd",
   "metadata": {},
   "outputs": [],
   "source": [
    "!pip install langchain_experimental -qU"
   ]
  },
  {
   "cell_type": "code",
   "execution_count": 3,
   "id": "33648c20-bb23-4baf-888c-1eb6ddea655a",
   "metadata": {},
   "outputs": [],
   "source": [
    "from langchain_experimental.llms.ollama_functions import OllamaFunctions\n",
    "model = OllamaFunctions(model=\"mistral\")"
   ]
  },
  {
   "cell_type": "code",
   "execution_count": 17,
   "id": "beec9416-5afc-456f-9768-75b23fd83da7",
   "metadata": {},
   "outputs": [],
   "source": [
    "data=\"\"\"\n",
    "Born May 11, 1918\n",
    "Richard Phillips Feynman\n",
    "New York City, U.S.\n",
    "Died\tFebruary 15, 1988 (aged 69)\n",
    "Los Angeles, California, U.S.\n",
    "Resting place\tMountain View Cemetery and Mausoleum\n",
    "Education\t\n",
    "Massachusetts Institute of Technology (SB)\n",
    "Princeton University (PhD)\n",
    "\"\"\""
   ]
  },
  {
   "cell_type": "code",
   "execution_count": 20,
   "id": "caa19558-0f5d-4ed1-a209-432b64b32bd0",
   "metadata": {},
   "outputs": [
    {
     "data": {
      "text/plain": [
       "[{'name': 'Richard Phillips Feynman',\n",
       "  'born': 'May 11, 1918',\n",
       "  'city': 'New York City, U.S.',\n",
       "  'died': 'February 15, 1988 (aged 69)',\n",
       "  'resting_place': 'Mountain View Cemetery and Mausoleum',\n",
       "  'education': 'Massachusetts Institute of Technology (SB) Princeton University (PhD)'}]"
      ]
     },
     "execution_count": 20,
     "metadata": {},
     "output_type": "execute_result"
    }
   ],
   "source": [
    "from langchain.chains import create_extraction_chain\n",
    "\n",
    "# Schema\n",
    "schema = {\n",
    "    \"properties\": {\n",
    "        \"name\": {\"type\": \"string\"},\n",
    "        \"born\": {\"type\": \"date\"},\n",
    "        \"died\": {\"type\": \"date\"},\n",
    "        \"city\": {\"type\": \"string\"},\n",
    "        \"education\": {\"type\": \"string\"},\n",
    "        \"resting_place\": {\"type\":\"string\"}\n",
    "    },\n",
    "    \"required\": [\"name\", \"year\"],\n",
    "}\n",
    "\n",
    "# Run chain\n",
    "llm = OllamaFunctions(model=\"mistral\", temperature=0)\n",
    "chain = create_extraction_chain(schema, llm)\n",
    "chain.run(data)"
   ]
  }
 ],
 "metadata": {
  "kernelspec": {
   "display_name": "Python 3 (ipykernel)",
   "language": "python",
   "name": "python3"
  },
  "language_info": {
   "codemirror_mode": {
    "name": "ipython",
    "version": 3
   },
   "file_extension": ".py",
   "mimetype": "text/x-python",
   "name": "python",
   "nbconvert_exporter": "python",
   "pygments_lexer": "ipython3",
   "version": "3.10.12"
  }
 },
 "nbformat": 4,
 "nbformat_minor": 5
}

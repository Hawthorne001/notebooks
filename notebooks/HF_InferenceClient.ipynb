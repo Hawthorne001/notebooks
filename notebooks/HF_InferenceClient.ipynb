{
  "cells": [
    {
      "cell_type": "markdown",
      "source": [
        "**This notebook demonstrates how to use the Hugging Face Hub's InferenceClient to interact with a large language model hosted on the Together and Sambanova platform**\n",
        "\n",
        "It sends a prompt to the **DeepSeek**-R1 model and prints the response\n",
        "\n"
      ],
      "metadata": {
        "id": "7e-iWnFZkR1q"
      }
    },
    {
      "cell_type": "code",
      "source": [
        "pip install -qU huggingface_hub"
      ],
      "metadata": {
        "colab": {
          "base_uri": "https://localhost:8080/"
        },
        "id": "a_BfknNtb4jy",
        "outputId": "69c1cbc0-336f-4e3f-8126-bc99736258dc"
      },
      "execution_count": 1,
      "outputs": [
        {
          "output_type": "stream",
          "name": "stdout",
          "text": [
            "\u001b[?25l   \u001b[90m━━━━━━━━━━━━━━━━━━━━━━━━━━━━━━━━━━━━━━━━\u001b[0m \u001b[32m0.0/464.1 kB\u001b[0m \u001b[31m?\u001b[0m eta \u001b[36m-:--:--\u001b[0m\r\u001b[2K   \u001b[91m━━━━━━━━━━━━━━━\u001b[0m\u001b[91m╸\u001b[0m\u001b[90m━━━━━━━━━━━━━━━━━━━━━━━━\u001b[0m \u001b[32m184.3/464.1 kB\u001b[0m \u001b[31m5.3 MB/s\u001b[0m eta \u001b[36m0:00:01\u001b[0m\r\u001b[2K   \u001b[90m━━━━━━━━━━━━━━━━━━━━━━━━━━━━━━━━━━━━━━━━\u001b[0m \u001b[32m464.1/464.1 kB\u001b[0m \u001b[31m4.5 MB/s\u001b[0m eta \u001b[36m0:00:00\u001b[0m\n",
            "\u001b[?25h"
          ]
        }
      ]
    },
    {
      "cell_type": "code",
      "source": [
        "from google.colab import userdata\n",
        "token = userdata.get('HF_TOKEN')"
      ],
      "metadata": {
        "id": "akEasXJWcc1j"
      },
      "execution_count": 13,
      "outputs": []
    },
    {
      "cell_type": "code",
      "source": [
        "from huggingface_hub import InferenceClient\n",
        "\n",
        "togetherClient = InferenceClient(\n",
        "\tprovider=\"together\",\n",
        "\tapi_key=token\n",
        ")"
      ],
      "metadata": {
        "id": "8fAV_VY5b3tM"
      },
      "execution_count": 14,
      "outputs": []
    },
    {
      "cell_type": "code",
      "source": [
        "messages = [\n",
        "\t{\n",
        "\t\t\"role\": \"user\",\n",
        "\t\t\"content\": \"A study claims that people who drink coffee live longer. What are some possible confounding variables that could explain this result?\"\n",
        "\t}\n",
        "]"
      ],
      "metadata": {
        "id": "OPjOL6DgcS91"
      },
      "execution_count": 4,
      "outputs": []
    },
    {
      "cell_type": "code",
      "source": [
        "togetherResp = togetherClient.chat.completions.create(\n",
        "  model=\"deepseek-ai/DeepSeek-R1\",\n",
        "\tmessages=messages,\n",
        "\tmax_tokens=500\n",
        ")"
      ],
      "metadata": {
        "id": "rjRGrPGZcYrE"
      },
      "execution_count": 15,
      "outputs": []
    },
    {
      "cell_type": "code",
      "source": [
        "print(togetherResp.choices[0].message.content)"
      ],
      "metadata": {
        "colab": {
          "base_uri": "https://localhost:8080/"
        },
        "id": "2ZGDpEAFc5eD",
        "outputId": "7e093f49-baa6-43bf-a2c4-d1af699ae1b7"
      },
      "execution_count": 16,
      "outputs": [
        {
          "output_type": "stream",
          "name": "stdout",
          "text": [
            "<think>\n",
            "Okay, so I need to think about possible confounding variables in the study that claims coffee drinkers live longer. A confounding variable is something that's related to both the independent variable (coffee drinking) and the dependent variable (longevity), but isn't accounted for in the study. It can create a false impression of a direct relationship between the two. Let me start brainstorming.\n",
            "\n",
            "First, maybe income or socioeconomic status. People with higher incomes might be more likely to afford coffee regularly, and they might also have better access to healthcare, healthier food, and live in safer neighborhoods. All of those factors could contribute to longer life, not the coffee itself.\n",
            "\n",
            "Another thought: lifestyle factors. Coffee drinkers might have certain routines or habits that promote longevity. For example, maybe they exercise more because they use coffee as a pre-workout drink. Or perhaps they have a more structured daily routine, which is associated with lower stress levels. Alternatively, coffee breaks might provide social interaction, which is known to have health benefits.\n",
            "\n",
            "Diet could be another confounder. Maybe coffee drinkers tend to have a healthier diet overall. Or they might consume less sugary beverages if they're drinking coffee instead. Conversely, some people add a lot of sugar or cream to their coffee, which could be unhealthy, but maybe the study didn't account for that. Maybe the study adjusted for diet, but if not, that's a confounder.\n",
            "\n",
            "Health consciousness. People who are health-conscious might do things like drink coffee in moderation, but they also might engage in other health-promoting behaviors like regular check-ups, not smoking, moderate alcohol use, etc. The study might not have controlled for these factors.\n",
            "\n",
            "Geography or culture. In some countries or regions, coffee consumption is the norm, and those places might have other factors contributing to longevity, like diet (Mediterranean diet in some European countries) or better public health infrastructure. So the correlation between coffee and longevity could actually be due to where people live.\n",
            "\n",
            "Smoking. There's a stereotype that coffee drinkers are more likely to smoke, but maybe in reality, the study adjusted for smoking. If not, smoking could be a confounder because smoking reduces lifespan. Wait, but if coffee drinkers are less likely to smoke, that could mask the true effect. Hmm, maybe I need to think again. If the study finds coffee drinkers live longer, but coffee drinkers are also less likely to smoke, then smoking is a confounder. But\n"
          ]
        }
      ]
    },
    {
      "cell_type": "markdown",
      "source": [
        "**SambaNova Example**"
      ],
      "metadata": {
        "id": "L9cV3r-jlEjJ"
      }
    },
    {
      "cell_type": "code",
      "source": [
        "sambaClient = InferenceClient(\n",
        "\tprovider=\"sambanova\",\n",
        "\tapi_key=token\n",
        ")"
      ],
      "metadata": {
        "id": "koPLR06fj8Ay"
      },
      "execution_count": 8,
      "outputs": []
    },
    {
      "cell_type": "code",
      "source": [
        "sambaResp = sambaClient.chat.completions.create(\n",
        "  model=\"meta-llama/Llama-3.1-405B-Instruct\",\n",
        "\tmessages=messages,\n",
        "\tmax_tokens=500\n",
        ")"
      ],
      "metadata": {
        "id": "hNPZfQkFlNeu"
      },
      "execution_count": 11,
      "outputs": []
    },
    {
      "cell_type": "code",
      "source": [
        "print(sambaResp.choices[0].message.content)"
      ],
      "metadata": {
        "colab": {
          "base_uri": "https://localhost:8080/"
        },
        "id": "KVg93-_Xl2_3",
        "outputId": "85c62a42-2594-479c-8067-8a515a3c0851"
      },
      "execution_count": 12,
      "outputs": [
        {
          "output_type": "stream",
          "name": "stdout",
          "text": [
            "When a study claims that people who drink coffee live longer, there are several possible confounding variables that could explain this result. Here are some potential confounding variables to consider:\n",
            "\n",
            "1. **Age and health status**: People who drink coffee may be younger and healthier than those who don't, which could contribute to their longer lifespan. If the study didn't control for age and health status, this could lead to biased results.\n",
            "2. **Lifestyle habits**: Coffee drinkers may be more likely to engage in other healthy habits, such as regular exercise, a balanced diet, or not smoking, which could contribute to their longer lifespan.\n",
            "3. **Socioeconomic status**: People who drink coffee may have a higher socioeconomic status, which is associated with better access to healthcare, healthier living conditions, and other factors that contribute to a longer lifespan.\n",
            "4. **Education level**: Coffee drinkers may be more educated, which is associated with better health literacy, healthier behaviors, and access to healthcare.\n",
            "5. **Occupation and work schedule**: People who drink coffee may be more likely to have a regular work schedule, which could contribute to a sense of purpose and social connections, both of which are associated with longer lifespan.\n",
            "6. **Social connections**: Coffee drinkers may be more likely to have a strong social network, which is associated with better mental and physical health, and a longer lifespan.\n",
            "7. **Genetic predisposition**: Some people may be more likely to drink coffee due to their genetic predisposition, which could also influence their lifespan.\n",
            "8. **Other dietary habits**: Coffee drinkers may be more likely to consume other foods or beverages that are associated with a longer lifespan, such as fruits, vegetables, or tea.\n",
            "9. **Stress levels**: People who drink coffee may be more likely to manage stress effectively, which could contribute to a longer lifespan.\n",
            "10. **Access to healthcare**: Coffee drinkers may be more likely to have access to regular healthcare check-ups, screenings, and preventive care, which could contribute to a longer lifespan.\n",
            "\n",
            "These are just a few examples of potential confounding variables that could explain the association between coffee consumption and longer lifespan. To establish a causal relationship, the study would need to control for these variables and others to ensure that the observed effect is due to coffee consumption itself, rather than other factors.\n"
          ]
        }
      ]
    }
  ],
  "metadata": {
    "colab": {
      "name": "Welcome To Colab",
      "provenance": []
    },
    "kernelspec": {
      "display_name": "Python 3",
      "name": "python3"
    }
  },
  "nbformat": 4,
  "nbformat_minor": 0
}
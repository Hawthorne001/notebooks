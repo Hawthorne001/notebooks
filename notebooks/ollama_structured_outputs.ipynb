{
 "cells": [
  {
   "cell_type": "code",
   "execution_count": 1,
   "id": "f8815456-c325-4a41-99a3-e4f8c876a4ac",
   "metadata": {},
   "outputs": [],
   "source": [
    "from ollama import chat\n",
    "from pydantic import BaseModel\n",
    "from datetime import date\n",
    "from typing import List"
   ]
  },
  {
   "cell_type": "code",
   "execution_count": 12,
   "id": "2e85b004-385c-4e02-9529-2f13b92bae5d",
   "metadata": {},
   "outputs": [],
   "source": [
    "class Person(BaseModel):\n",
    "    name: str\n",
    "    age: int\n",
    "    date_of_death: date\n",
    "    date_of_birth: date\n",
    "    place_of_birth: str\n",
    "    awards: List[str]"
   ]
  },
  {
   "cell_type": "code",
   "execution_count": 13,
   "id": "0f7e1a9b-02fd-4f97-8176-69eb1e5e5cf0",
   "metadata": {},
   "outputs": [],
   "source": [
    "response = chat(\n",
    "  messages=[\n",
    "    {\n",
    "      'role': 'user',\n",
    "      'content': '''\n",
    "        Born\tRichard Phillips Feynman\n",
    "May 11, 1918\n",
    "New York City, U.S.\n",
    "Died\tFebruary 15, 1988 (aged 69)\n",
    "Los Angeles, California, U.S.\n",
    "Resting place\tMountain View Cemetery and Mausoleum\n",
    "Education\t\n",
    "Massachusetts Institute of Technology (SB)\n",
    "Princeton University (PhD)\n",
    "Known for\t\n",
    "Spouses\t\n",
    "Arline Greenbaum\n",
    "​\n",
    "​(m. 1942; died 1945)​\n",
    "Mary Louise Bell\n",
    "​\n",
    "​(m. 1952; div. 1958)​\n",
    "Gweneth Howarth ​(m. 1960)​\n",
    "Children\t2\n",
    "Relatives\t\n",
    "Joan Feynman (sister)\n",
    "Charles Hirshberg (nephew)\n",
    "Awards\t\n",
    "Albert Einstein Award (1954)\n",
    "E. O. Lawrence Award (1962)\n",
    "Nobel Prize in Physics (1965)\n",
    "Foreign Member of the Royal Society (1965)\n",
    "Oersted Medal (1972)\n",
    "National Medal of Science (1979)\n",
    "Scientific career\n",
    "Fields\tTheoretical physics\n",
    "Institutions\t\n",
    "Cornell University\n",
    "California Institute of Technology\n",
    "Thesis\tThe Principle of Least Action in Quantum Mechanics (1942)\n",
    "Doctoral advisor\tJohn Archibald Wheeler\n",
    "Doctoral students\t\n",
    "James M. Bardeen\n",
    "Laurie Mark Brown\n",
    "Michael Cohen\n",
    "Thomas Curtright\n",
    "Albert Hibbs\n",
    "Giovanni Rossi Lomanitz\n",
    "George Zweig\n",
    "Other notable students\t\n",
    "Robert Barro\n",
    "Douglas D. Osheroff\n",
    "Paul J. Steinhardt\n",
    "Stephen Wolfram\n",
    "Signature\n",
    "      ''',\n",
    "    }\n",
    "  ],\n",
    "  model='llama3.2',\n",
    "  format=Person.model_json_schema(),\n",
    ")"
   ]
  },
  {
   "cell_type": "code",
   "execution_count": 16,
   "id": "64b7c8ff-e70b-48c7-9481-23930ed987e3",
   "metadata": {},
   "outputs": [],
   "source": [
    "person_info = Person.model_validate_json(response.message.content)"
   ]
  },
  {
   "cell_type": "code",
   "execution_count": 38,
   "id": "13191cf9-17e0-4ca4-be4b-f30e9a98c24a",
   "metadata": {},
   "outputs": [
    {
     "data": {
      "text/plain": [
       "{'name': 'Richard Phillips Feynman',\n",
       " 'age': 69,\n",
       " 'date_of_death': datetime.date(1988, 2, 15),\n",
       " 'date_of_birth': datetime.date(1918, 5, 11),\n",
       " 'place_of_birth': 'New York City, U.S.\",\"places_of_residence\":[\"Los Angeles, California, U.S.\"], ',\n",
       " 'awards': ['Albert Einstein Award (1954)',\n",
       "  'E. O. Lawrence Award (1962)',\n",
       "  'Nobel Prize in Physics (1965)',\n",
       "  'Foreign Member of the Royal Society (1965)',\n",
       "  'Oersted Medal (1972)',\n",
       "  'National Medal of Science (1979)']}"
      ]
     },
     "execution_count": 38,
     "metadata": {},
     "output_type": "execute_result"
    }
   ],
   "source": [
    "person_info.model_dump()"
   ]
  },
  {
   "cell_type": "code",
   "execution_count": null,
   "id": "b2484698-e1b4-4740-87a9-a5a8a9f50a1a",
   "metadata": {},
   "outputs": [],
   "source": []
  }
 ],
 "metadata": {
  "kernelspec": {
   "display_name": "Python 3 (ipykernel)",
   "language": "python",
   "name": "python3"
  },
  "language_info": {
   "codemirror_mode": {
    "name": "ipython",
    "version": 3
   },
   "file_extension": ".py",
   "mimetype": "text/x-python",
   "name": "python",
   "nbconvert_exporter": "python",
   "pygments_lexer": "ipython3",
   "version": "3.12.2"
  }
 },
 "nbformat": 4,
 "nbformat_minor": 5
}

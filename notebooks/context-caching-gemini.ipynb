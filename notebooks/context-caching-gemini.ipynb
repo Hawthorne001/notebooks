{
 "cells": [
  {
   "cell_type": "markdown",
   "metadata": {},
   "source": [
    "### Context Caching Gemini \n",
    "- Gemini API offers context caching feature \n",
    "- Reduces costs by caching input tokens for repeated requests in AI workflows \n",
    "- Default TTL of 1 hour \n",
    "- Available for Gemini 1.5 Pro and Flash versions \n",
    "- Recommended for scenarios with substantial initial context referenced by shorter requests \n",
    "- Billing based on cached token count and storage duration \n",
    "- Refer to Gemini API pricing page for more details"
   ]
  },
  {
   "cell_type": "code",
   "execution_count": 1,
   "metadata": {},
   "outputs": [
    {
     "name": "stdout",
     "output_type": "stream",
     "text": [
      "\n",
      "\u001b[1m[\u001b[0m\u001b[34;49mnotice\u001b[0m\u001b[1;39;49m]\u001b[0m\u001b[39;49m A new release of pip is available: \u001b[0m\u001b[31;49m24.0\u001b[0m\u001b[39;49m -> \u001b[0m\u001b[32;49m24.1.1\u001b[0m\n",
      "\u001b[1m[\u001b[0m\u001b[34;49mnotice\u001b[0m\u001b[1;39;49m]\u001b[0m\u001b[39;49m To update, run: \u001b[0m\u001b[32;49mpython3 -m pip install --upgrade pip\u001b[0m\n"
     ]
    }
   ],
   "source": [
    "!pip install -qU 'google-generativeai>=0.7.0'"
   ]
  },
  {
   "cell_type": "code",
   "execution_count": 2,
   "metadata": {},
   "outputs": [
    {
     "name": "stderr",
     "output_type": "stream",
     "text": [
      "/home/codespace/.python/current/lib/python3.10/site-packages/tqdm/auto.py:21: TqdmWarning: IProgress not found. Please update jupyter and ipywidgets. See https://ipywidgets.readthedocs.io/en/stable/user_install.html\n",
      "  from .autonotebook import tqdm as notebook_tqdm\n"
     ]
    }
   ],
   "source": [
    "import google.generativeai as genai\n",
    "from google.generativeai import caching"
   ]
  },
  {
   "cell_type": "code",
   "execution_count": 3,
   "metadata": {},
   "outputs": [],
   "source": [
    "genai.configure(api_key=\"<KEY>\")"
   ]
  },
  {
   "cell_type": "code",
   "execution_count": 7,
   "metadata": {},
   "outputs": [
    {
     "name": "stdout",
     "output_type": "stream",
     "text": [
      "--2024-07-05 05:07:14--  https://raw.githubusercontent.com/kunjee17/mahabharata/master/books/01.txt\n",
      "Resolving raw.githubusercontent.com (raw.githubusercontent.com)... 185.199.111.133, 185.199.108.133, 185.199.109.133, ...\n",
      "Connecting to raw.githubusercontent.com (raw.githubusercontent.com)|185.199.111.133|:443... connected.\n",
      "HTTP request sent, awaiting response... 200 OK\n",
      "Length: 1345896 (1.3M) [text/plain]\n",
      "Saving to: ‘01.txt’\n",
      "\n",
      "01.txt              100%[===================>]   1.28M  --.-KB/s    in 0.04s   \n",
      "\n",
      "2024-07-05 05:07:15 (30.8 MB/s) - ‘01.txt’ saved [1345896/1345896]\n",
      "\n"
     ]
    }
   ],
   "source": [
    "!wget https://raw.githubusercontent.com/kunjee17/mahabharata/master/books/01.txt"
   ]
  },
  {
   "cell_type": "code",
   "execution_count": 8,
   "metadata": {},
   "outputs": [],
   "source": [
    "document = genai.upload_file(path=\"./01.txt\")"
   ]
  },
  {
   "cell_type": "code",
   "execution_count": 11,
   "metadata": {},
   "outputs": [
    {
     "name": "stdout",
     "output_type": "stream",
     "text": [
      "BOOK 1\n",
      "\n",
      "ADI PARVA\n",
      "\n",
      "Translated into English Prose from the Original Sanskrit Text\n",
      "\n",
      "by\n",
      "\n",
      "Kisari Mohan Ganguli\n",
      "\n"
     ]
    }
   ],
   "source": [
    "!head 01.txt"
   ]
  },
  {
   "cell_type": "code",
   "execution_count": 9,
   "metadata": {},
   "outputs": [
    {
     "data": {
      "text/plain": [
       "CachedContent(\n",
       "    name='cachedContents/69ckigsl6i7c',\n",
       "    model='models/gemini-1.5-flash-001',\n",
       "    display_name='',\n",
       "    usage_metadata={\n",
       "        'total_token_count': 330894,\n",
       "    },\n",
       "    create_time=2024-07-05 05:08:04.291582+00:00,\n",
       "    update_time=2024-07-05 05:08:04.291582+00:00,\n",
       "    expire_time=2024-07-05 06:08:03.867270+00:00\n",
       ")"
      ]
     },
     "execution_count": 9,
     "metadata": {},
     "output_type": "execute_result"
    }
   ],
   "source": [
    "model_name = \"gemini-1.5-flash-001\"\n",
    "\n",
    "maha_cache = caching.CachedContent.create(\n",
    "    model=model_name,\n",
    "    system_instruction=\"You are an expert transcript analyzer, you can understand and summarize larger texts\",\n",
    "    contents=[document],\n",
    ")\n",
    "\n",
    "maha_cache"
   ]
  },
  {
   "cell_type": "code",
   "execution_count": 12,
   "metadata": {},
   "outputs": [
    {
     "data": {
      "text/plain": [
       "CachedContent(\n",
       "    name='cachedContents/69ckigsl6i7c',\n",
       "    model='models/gemini-1.5-flash-001',\n",
       "    display_name='',\n",
       "    usage_metadata={\n",
       "        'total_token_count': 330894,\n",
       "    },\n",
       "    create_time=2024-07-05 05:08:04.291582+00:00,\n",
       "    update_time=2024-07-05 05:09:23.950301+00:00,\n",
       "    expire_time=2024-07-05 09:09:23.928522+00:00\n",
       ")"
      ]
     },
     "execution_count": 12,
     "metadata": {},
     "output_type": "execute_result"
    }
   ],
   "source": [
    "import datetime\n",
    "\n",
    "maha_cache.update(ttl=datetime.timedelta(hours=4))\n",
    "maha_cache"
   ]
  },
  {
   "cell_type": "code",
   "execution_count": 13,
   "metadata": {},
   "outputs": [
    {
     "name": "stdout",
     "output_type": "stream",
     "text": [
      "Chapter 1 of the Adi Parva of the Mahabharata introduces the story of the epic through the character of Sauti, a sage who narrates the epic to a group of other sages at a great sacrifice.  Here's a summary of the chapter:\n",
      "\n",
      "* **Sauti arrives at the sacrifice:** Sauti, a learned sage who has traveled extensively and heard the epic from Vaisampayana, arrives at the great sacrifice organized by the sage Saunaka. He tells the other sages he is eager to share the epic they are requesting. \n",
      "* **The Importance of the Mahabharata:** The sages express their desire to hear the epic, specifically the Bharata portion, highlighting its importance as a sacred work that can dispel fear and provide knowledge.\n",
      "* **The Creation Story and the Purpose of the Mahabharata:** Sauti begins his narration with a creation myth, describing how the universe was born from a cosmic egg and how the Devas, humans, and other beings came into existence. He then emphasizes that the Mahabharata, composed by the sage Vyasa, is a vast repository of knowledge, encompassing topics from Dharma (righteousness) to politics, war, and spirituality.\n",
      "* **Vyasa and Ganesa's Role:** The narration highlights Vyasa's anxiety over how to share such a massive epic with his disciples. Brahma, the creator god, advises him to compose it as a poem and enlist the help of Ganesha, the elephant-headed god, to write it down.\n",
      "* **The Challenge of the Mahabharata:** Sauti explains that the epic is challenging to comprehend, filled with layers of meaning and complex language. Even Ganesha, the scribe, required time to grasp its intricacies.\n",
      "* **The Mahabharata as a Tree of Knowledge:** Sauti concludes by describing the epic as a great tree, with various parts symbolizing different aspects of the story. Each part of the epic, he argues, holds valuable lessons and wisdom. \n",
      "\n",
      "Overall, Chapter 1 sets the stage for the epic, introducing its key characters, establishing its importance as a sacred work, and hinting at the vastness and complexity of the story that will unfold. \n",
      "\n"
     ]
    }
   ],
   "source": [
    "maha_model = genai.GenerativeModel.from_cached_content(cached_content=maha_cache)\n",
    "\n",
    "response = maha_model.generate_content(\"give me the summary of chatper 1\")\n",
    "print(response.text)"
   ]
  },
  {
   "cell_type": "code",
   "execution_count": 14,
   "metadata": {},
   "outputs": [
    {
     "data": {
      "text/plain": [
       "prompt_token_count: 330904\n",
       "cached_content_token_count: 330894\n",
       "candidates_token_count: 443\n",
       "total_token_count: 331347"
      ]
     },
     "execution_count": 14,
     "metadata": {},
     "output_type": "execute_result"
    }
   ],
   "source": [
    "response.usage_metadata"
   ]
  },
  {
   "cell_type": "code",
   "execution_count": 15,
   "metadata": {},
   "outputs": [
    {
     "name": "stdout",
     "output_type": "stream",
     "text": [
      "At the end of Chapter 1, Dhritarashtra, overwhelmed with grief for the loss of his sons in the Kurukshetra war, expresses his desire to end his life.  Sanjaya, his charioteer, consoles him by reminding him of the many powerful and virtuous kings of the past who also met their end, and that grief over inevitable fate is foolish. \n",
      "\n",
      "Dhritarashtra, comforted by Sanjaya, gives up his suicidal thoughts. \n",
      "\n"
     ]
    }
   ],
   "source": [
    "chat = maha_model.start_chat()\n",
    "response = chat.send_message(\"What happened at the end of chapter 1?\")\n",
    "print(response.text)"
   ]
  },
  {
   "cell_type": "code",
   "execution_count": 16,
   "metadata": {},
   "outputs": [
    {
     "data": {
      "text/plain": [
       "prompt_token_count: 330905\n",
       "cached_content_token_count: 330894\n",
       "candidates_token_count: 93\n",
       "total_token_count: 330998"
      ]
     },
     "execution_count": 16,
     "metadata": {},
     "output_type": "execute_result"
    }
   ],
   "source": [
    "response.usage_metadata"
   ]
  },
  {
   "cell_type": "code",
   "execution_count": 17,
   "metadata": {},
   "outputs": [
    {
     "data": {
      "text/plain": [
       "total_tokens: 9"
      ]
     },
     "execution_count": 17,
     "metadata": {},
     "output_type": "execute_result"
    }
   ],
   "source": [
    "maha_model.count_tokens(\"How many kings are involved in this chapter?\")\n"
   ]
  }
 ],
 "metadata": {
  "kernelspec": {
   "display_name": "Python 3",
   "language": "python",
   "name": "python3"
  },
  "language_info": {
   "codemirror_mode": {
    "name": "ipython",
    "version": 3
   },
   "file_extension": ".py",
   "mimetype": "text/x-python",
   "name": "python",
   "nbconvert_exporter": "python",
   "pygments_lexer": "ipython3",
   "version": "3.10.13"
  }
 },
 "nbformat": 4,
 "nbformat_minor": 2
}

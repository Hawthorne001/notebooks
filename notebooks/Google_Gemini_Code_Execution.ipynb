{
 "cells": [
  {
   "cell_type": "code",
   "execution_count": 5,
   "metadata": {},
   "outputs": [],
   "source": [
    "!pip install -qU google-generativeai"
   ]
  },
  {
   "cell_type": "code",
   "execution_count": 6,
   "metadata": {},
   "outputs": [],
   "source": [
    "import os\n",
    "import google.generativeai as genai"
   ]
  },
  {
   "cell_type": "code",
   "execution_count": 8,
   "metadata": {},
   "outputs": [],
   "source": [
    "genai.configure(api_key=\"<KEY>\")"
   ]
  },
  {
   "cell_type": "code",
   "execution_count": 9,
   "metadata": {},
   "outputs": [],
   "source": [
    "model = genai.GenerativeModel(\n",
    "    model_name='gemini-1.5-pro',\n",
    "    tools='code_execution')"
   ]
  },
  {
   "cell_type": "code",
   "execution_count": 10,
   "metadata": {},
   "outputs": [],
   "source": [
    "response = model.generate_content((\n",
    "    'How many Is are there is Mississippi? '\n",
    "    'Generate and run code for the calculation, and make sure you count the Is.'))"
   ]
  },
  {
   "cell_type": "code",
   "execution_count": 11,
   "metadata": {},
   "outputs": [
    {
     "name": "stdout",
     "output_type": "stream",
     "text": [
      "Thoughts:\n",
      "1. Define the string \"Mississippi\"\n",
      "2. Initialize a counter variable to 0\n",
      "3. Iterate through each character of the string\n",
      "4. If a character is \"i\" or \"I\", increment the counter\n",
      "5. Print the value of the counter\n",
      "\n",
      "\n",
      "``` python\n",
      "string = \"Mississippi\"\n",
      "count = 0\n",
      "for i in string:\n",
      "    if i == 'i' or i == 'I':\n",
      "        count +=1\n",
      "print(f'There are {count} Is in Mississippi')\n",
      "\n",
      "```\n",
      "```\n",
      "There are 4 Is in Mississippi\n",
      "\n",
      "```\n",
      "There are **4** Is in Mississippi. \n",
      "\n"
     ]
    }
   ],
   "source": [
    "print(response.text)"
   ]
  },
  {
   "cell_type": "code",
   "execution_count": null,
   "metadata": {},
   "outputs": [],
   "source": []
  }
 ],
 "metadata": {
  "kernelspec": {
   "display_name": "Python 3",
   "language": "python",
   "name": "python3"
  },
  "language_info": {
   "codemirror_mode": {
    "name": "ipython",
    "version": 3
   },
   "file_extension": ".py",
   "mimetype": "text/x-python",
   "name": "python",
   "nbconvert_exporter": "python",
   "pygments_lexer": "ipython3",
   "version": "3.12.1"
  }
 },
 "nbformat": 4,
 "nbformat_minor": 2
}

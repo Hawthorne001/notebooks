{
  "cells": [
    {
      "cell_type": "code",
      "source": [
        "!pip install llama-index llama-parse"
      ],
      "metadata": {
        "id": "ZfzODgO_UHLe"
      },
      "execution_count": null,
      "outputs": []
    },
    {
      "cell_type": "code",
      "source": [
        "!wget https://www.cs.kent.ac.uk/people/staff/dat/miranda/whyfp90.pdf"
      ],
      "metadata": {
        "colab": {
          "base_uri": "https://localhost:8080/"
        },
        "id": "7pBVSUhVUciU",
        "outputId": "81c7ed9c-d0fc-4ffc-bd3a-29f1bd27184d"
      },
      "execution_count": 3,
      "outputs": [
        {
          "output_type": "stream",
          "name": "stdout",
          "text": [
            "--2024-03-18 21:01:52--  https://www.cs.kent.ac.uk/people/staff/dat/miranda/whyfp90.pdf\n",
            "Resolving www.cs.kent.ac.uk (www.cs.kent.ac.uk)... 129.12.4.58, 2001:630:340:1100::58\n",
            "Connecting to www.cs.kent.ac.uk (www.cs.kent.ac.uk)|129.12.4.58|:443... connected.\n",
            "HTTP request sent, awaiting response... 200 OK\n",
            "Length: 200007 (195K) [application/pdf]\n",
            "Saving to: ‘whyfp90.pdf’\n",
            "\n",
            "whyfp90.pdf         100%[===================>] 195.32K   820KB/s    in 0.2s    \n",
            "\n",
            "2024-03-18 21:01:52 (820 KB/s) - ‘whyfp90.pdf’ saved [200007/200007]\n",
            "\n"
          ]
        }
      ]
    },
    {
      "cell_type": "code",
      "source": [
        "import nest_asyncio\n",
        "nest_asyncio.apply()\n",
        "\n",
        "from llama_parse import LlamaParse\n",
        "\n",
        "parser = LlamaParse(\n",
        "    api_key=\"llx-xxxxx\",\n",
        "    result_type=\"markdown\",\n",
        "    num_workers=4,\n",
        "    verbose=True,\n",
        "    language=\"en\"\n",
        ")\n",
        "\n",
        "# sync\n",
        "documents = parser.load_data(\"./whyfp90.pdf\")"
      ],
      "metadata": {
        "colab": {
          "base_uri": "https://localhost:8080/"
        },
        "id": "obZmYxJyUIYq",
        "outputId": "645d50c3-3b13-412e-fcb3-d40fd83d8962"
      },
      "execution_count": 4,
      "outputs": [
        {
          "output_type": "stream",
          "name": "stdout",
          "text": [
            "Started parsing the file under job_id 7036ec4b-7b71-4d1e-a4eb-7c582a165d6a\n"
          ]
        }
      ]
    },
    {
      "cell_type": "code",
      "source": [
        "print(documents[0])"
      ],
      "metadata": {
        "colab": {
          "base_uri": "https://localhost:8080/"
        },
        "id": "Laj3U8jGUuoP",
        "outputId": "945820b0-e21d-4737-c698-4ce14001a2d7"
      },
      "execution_count": 28,
      "outputs": [
        {
          "output_type": "stream",
          "name": "stdout",
          "text": [
            "Doc ID: a2b3de53-3fc7-41df-b06b-60875739e543\n",
            "Text: ## From “Research Topics in Functional Programming” ed. D.\n",
            "Turner, Addison-Wesley, 1990, pp 17–42.  |Why Functional Programming\n",
            "Matters|John Hughes| |---|---| |The University, Glasgow| |  Abstract\n",
            "As software becomes more and more complex, it is more and more\n",
            "important to structure it well. Well-structured software is easy to\n",
            "write and to debug...\n"
          ]
        }
      ]
    },
    {
      "cell_type": "code",
      "source": [
        "!pip install llama-index-llms-gemini google-generativeai llama-index-embeddings-google -qU\n"
      ],
      "metadata": {
        "id": "yDg8AyDVV0df"
      },
      "execution_count": 7,
      "outputs": []
    },
    {
      "cell_type": "code",
      "source": [
        "%env GOOGLE_API_KEY=<key>"
      ],
      "metadata": {
        "id": "sfkWNbrmaP8j"
      },
      "execution_count": null,
      "outputs": []
    },
    {
      "cell_type": "code",
      "source": [
        "from llama_index.llms.gemini import Gemini\n",
        "from llama_index.core import Settings\n",
        "from llama_index.core import VectorStoreIndex\n",
        "from llama_index.embeddings.google import GeminiEmbedding\n",
        "\n",
        "Settings.llm = Gemini(model=\"models/gemini-pro\")\n",
        "Settings.embed_model = GeminiEmbedding()\n",
        "index = VectorStoreIndex.from_documents(documents)\n",
        "query_engine = index.as_query_engine()\n",
        "response = query_engine.query(\"Summarize the paper in 8 points\")\n",
        "print(response)"
      ],
      "metadata": {
        "colab": {
          "base_uri": "https://localhost:8080/",
          "height": 160
        },
        "id": "uvqYJPTSU9I6",
        "outputId": "6b3d1f8c-ac68-4908-8bf3-8cf661fd0f80"
      },
      "execution_count": 8,
      "outputs": [
        {
          "output_type": "stream",
          "name": "stdout",
          "text": [
            "1. Foldr can be used to append lists by Cons ing elements onto the front.\n",
            "2. Length counts the number of elements in a list using foldr and count.\n",
            "3. Doubleall doubles all elements of a list using foldr, doubleandcons, and double.\n",
            "4. Fandcons modularizes doubleandcons further using function composition.\n",
            "5. Map applies any function to all elements of a list using foldr and Cons.\n",
            "6. Summatrix sums all elements of a matrix using sum, map, and sum.\n",
            "7. Foldtree is analogous to foldr for ordered labeled trees, replacing Cons, Nil, and Node.\n",
            "8. Listof defines lists of any type using Nil and Cons.\n"
          ]
        }
      ]
    }
  ],
  "metadata": {
    "colab": {
      "name": "Welcome To Colaboratory",
      "provenance": []
    },
    "kernelspec": {
      "display_name": "Python 3",
      "name": "python3"
    }
  },
  "nbformat": 4,
  "nbformat_minor": 0
}

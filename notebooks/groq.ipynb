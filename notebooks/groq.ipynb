{
 "cells": [
  {
   "cell_type": "markdown",
   "metadata": {},
   "source": [
    "## 🚀 Unlock the Power of Groq: A Hands-on API Exploration!\n",
    "> This notebook is your launchpad into the exciting world of Groq.\n",
    "\n",
    "__Get ready to dive into:__\n",
    "\n",
    "🪐 Hello Groq: Take your first steps with the Groq client and witness its capabilities firsthand.\n",
    "\n",
    "⚡ Streaming with Groq: Harness the power of real-time data processing with Groq's efficient streaming functionalities.\n",
    "\n",
    "🛠️ JSON Mode Unleashed: Discover the flexibility of working with JSON Data Models.\n",
    "\n",
    "🧰 Tools: Explore how we cal use functional calling with custom Tools.\n",
    "\n",
    "P.S. Don't forget to grab your API key from the [Groq Console](https://console.groq.com/keys) before embarking on this journey!\n",
    "\n",
    "Authored by: [Hemanth HM](https://h3manth.com)"
   ]
  },
  {
   "cell_type": "markdown",
   "metadata": {},
   "source": [
    "### Install deps"
   ]
  },
  {
   "cell_type": "code",
   "execution_count": 1,
   "metadata": {},
   "outputs": [],
   "source": [
    "!pip install -qU groq"
   ]
  },
  {
   "cell_type": "markdown",
   "metadata": {},
   "source": [
    "### Export API KEY"
   ]
  },
  {
   "cell_type": "code",
   "execution_count": 9,
   "metadata": {},
   "outputs": [
    {
     "name": "stdout",
     "output_type": "stream",
     "text": [
      "env: GROQ_API_KEY=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\n"
     ]
    }
   ],
   "source": [
    "%env GROQ_API_KEY=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"
   ]
  },
  {
   "cell_type": "markdown",
   "metadata": {},
   "source": [
    "## Hello Groq"
   ]
  },
  {
   "cell_type": "code",
   "execution_count": 10,
   "metadata": {},
   "outputs": [
    {
     "name": "stdout",
     "output_type": "stream",
     "text": [
      "Here are five dadjokes for you:\n",
      "\n",
      "1. Why did the scarecrow win an award? Because he was outstanding in his field! (get it?)\n",
      "2. I told my wife she was drawing her eyebrows too high. She looked surprised.\n",
      "3. Why do chicken coops only have two doors? Because if they had four, they would be a sedan.\n",
      "4. What do you call a fake noodle? An impasta.\n",
      "5. Why did the mushroom go to the party? Because he was a fun-gi.\n",
      "\n",
      "I hope you groaned at least once!None"
     ]
    }
   ],
   "source": [
    "from groq import Groq\n",
    "\n",
    "client = Groq()\n",
    "\n",
    "user_content = \"Give me 5 dadjokes\" #input(\"groq> \")\n",
    "\n",
    "chat_completion = client.chat.completions.create(\n",
    "    messages=[\n",
    "        {\"role\": \"user\", \"content\": user_content}\n",
    "    ],\n",
    "    model=\"llama3-70b-8192\",\n",
    "    stream=True,\n",
    "\n",
    ")\n",
    "\n",
    "for chunk in chat_completion:\n",
    "    print(chunk.choices[0].delta.content, end=\"\")"
   ]
  },
  {
   "cell_type": "markdown",
   "metadata": {},
   "source": [
    "# Streaming "
   ]
  },
  {
   "cell_type": "code",
   "execution_count": 18,
   "metadata": {},
   "outputs": [],
   "source": [
    "!pip install -qU asyncio nest_asyncio"
   ]
  },
  {
   "cell_type": "code",
   "execution_count": 23,
   "metadata": {},
   "outputs": [
    {
     "data": {
      "text/plain": [
       "<Task pending name='Task-142' coro=<main() running at /tmp/ipykernel_1938/2813795872.py:7>>"
      ]
     },
     "execution_count": 23,
     "metadata": {},
     "output_type": "execute_result"
    },
    {
     "name": "stdout",
     "output_type": "stream",
     "text": [
      "You want some groan-inducing, eye-rolling-worthy, and utterly fantastic dad jokes, eh? Alright, here are five of 'em:\n",
      "\n",
      "1. Why did the scarecrow win an award? Because he was outstanding in his field! (get it?)\n",
      "2. I told my wife she was drawing her eyebrows too high. She looked surprised.\n",
      "3. Why do chicken coops only have two doors? Because if they had four, they would be a sedan!\n",
      "4. What do you call a fake noodle? An impasta!\n",
      "5. Why did the mushroom go to the party? Because he was a fun-gi!\n",
      "\n",
      "Remember, these jokes are so bad, they're good!None"
     ]
    }
   ],
   "source": [
    "import asyncio\n",
    "import nest_asyncio\n",
    "from groq import AsyncGroq\n",
    "\n",
    "nest_asyncio.apply() # need for notebooks\n",
    "\n",
    "async def main():\n",
    "    client = AsyncGroq()\n",
    "\n",
    "    stream = await client.chat.completions.create(\n",
    "        messages=[\n",
    "            {\"role\": \"system\", \"content\": \"You an expert comedian, with two decades of experience\"},\n",
    "            {\"role\": \"user\", \"content\": \"Give me 5 dadjokes\"},\n",
    "        ],\n",
    "        model=\"llama3-70b-8192\",\n",
    "        temperature=0.5,\n",
    "        max_tokens=1024,\n",
    "        top_p=1,\n",
    "        stream=True,\n",
    "    )\n",
    "\n",
    "    async for chunk in stream:\n",
    "        print(chunk.choices[0].delta.content, end=\"\")\n",
    "\n",
    "import asyncio\n",
    "loop = asyncio.get_event_loop()\n",
    "loop.create_task(main())"
   ]
  },
  {
   "cell_type": "markdown",
   "metadata": {},
   "source": [
    "### JSON Mode (non-streaming)"
   ]
  },
  {
   "cell_type": "code",
   "execution_count": 19,
   "metadata": {},
   "outputs": [],
   "source": [
    "from typing import List, Optional\n",
    "import json\n",
    "from pydantic import BaseModel"
   ]
  },
  {
   "cell_type": "code",
   "execution_count": 20,
   "metadata": {},
   "outputs": [],
   "source": [
    "# Data models (from groq example)\n",
    "class Ingredient(BaseModel):\n",
    "    name: str\n",
    "    quantity: str\n",
    "    quantity_unit: Optional[str]\n",
    "\n",
    "class Recipe(BaseModel):\n",
    "    recipe_name: str\n",
    "    ingredients: List[Ingredient]\n",
    "    directions: List[str]"
   ]
  },
  {
   "cell_type": "code",
   "execution_count": 12,
   "metadata": {},
   "outputs": [],
   "source": [
    "# Function to create the system message for Groq\n",
    "def create_system_message(schema: str) -> dict:\n",
    "    return {\n",
    "        \"role\": \"system\",\n",
    "        \"content\": \"You are master chef with a great source of repeices, outputs recipes in JSON.\\n\"\n",
    "        f\" The JSON object must use the schema: {schema}\",\n",
    "    }"
   ]
  },
  {
   "cell_type": "code",
   "execution_count": 13,
   "metadata": {},
   "outputs": [],
   "source": [
    "# Function to create the user message for Groq\n",
    "def create_user_message(recipe_name: str) -> dict:\n",
    "    return {\"role\": \"user\", \"content\": f\"Fetch a recipe for {recipe_name}\"}"
   ]
  },
  {
   "cell_type": "code",
   "execution_count": 14,
   "metadata": {},
   "outputs": [],
   "source": [
    "# Function to fetch recipe data from Groq\n",
    "def fetch_recipe_data(recipe_name: str, groq_client: Groq) -> dict:\n",
    "    messages = [\n",
    "        create_system_message(json.dumps(Recipe.model_json_schema(), indent=2)),\n",
    "        create_user_message(recipe_name),\n",
    "    ]\n",
    "    response = groq_client.chat.completions.create(\n",
    "        messages=messages,\n",
    "        model=\"mixtral-8x7b-32768\",\n",
    "        temperature=0,\n",
    "        stream=False,\n",
    "        response_format={\"type\": \"json_object\"},\n",
    "    )\n",
    "    return response.choices[0].message.content"
   ]
  },
  {
   "cell_type": "code",
   "execution_count": 15,
   "metadata": {},
   "outputs": [],
   "source": [
    "# Function to parse recipe data into a Recipe object\n",
    "def parse_recipe(recipe_data: dict) -> Recipe:\n",
    "    return Recipe.model_validate_json(recipe_data)"
   ]
  },
  {
   "cell_type": "code",
   "execution_count": 16,
   "metadata": {},
   "outputs": [],
   "source": [
    "# Function to format an ingredient string\n",
    "def format_ingredient(ingredient: Ingredient) -> str:\n",
    "    return f\"- {ingredient.name}: {ingredient.quantity} {ingredient.quantity_unit or ''}\""
   ]
  },
  {
   "cell_type": "code",
   "execution_count": 17,
   "metadata": {},
   "outputs": [],
   "source": [
    "# Function to format a direction string\n",
    "def format_direction(step: int, direction: str) -> str:\n",
    "    return f\"{step}. {direction}\""
   ]
  },
  {
   "cell_type": "code",
   "execution_count": 18,
   "metadata": {},
   "outputs": [],
   "source": [
    "# Function to print the recipe\n",
    "def print_recipe(recipe: Recipe):\n",
    "    print(\"Recipe:\", recipe.recipe_name)\n",
    "    print(\"\\nIngredients:\")\n",
    "    print(\"\\n\".join(map(format_ingredient, recipe.ingredients)))\n",
    "    print(\"\\nDirections:\")\n",
    "    print(\"\\n\".join(map(format_direction, range(1, len(recipe.directions) + 1), recipe.directions)))"
   ]
  },
  {
   "cell_type": "code",
   "execution_count": 19,
   "metadata": {},
   "outputs": [],
   "source": [
    "# Main function (composition of functions)\n",
    "def cook(recipe_name: str, groq_client: Groq):\n",
    "    recipe_data = fetch_recipe_data(recipe_name, groq_client)\n",
    "    recipe = parse_recipe(recipe_data)\n",
    "    print_recipe(recipe)"
   ]
  },
  {
   "cell_type": "code",
   "execution_count": 21,
   "metadata": {},
   "outputs": [
    {
     "name": "stdout",
     "output_type": "stream",
     "text": [
      "Recipe: Bise Bele Bath\n",
      "\n",
      "Ingredients:\n",
      "- Toor Dal: 1 cup\n",
      "- Chana Dal: 1/4 cup\n",
      "- Moong Dal: 1/4 cup\n",
      "- Tamarind: 1 lemon-sized ball\n",
      "- Jaggery: 1 inch cube\n",
      "- Turmeric Powder: 1/2 tsp\n",
      "- Sambar Powder: 2 tsp\n",
      "- Rasam Powder: 1 tsp\n",
      "- Salt: to taste \n",
      "- Oil: 2 tsp\n",
      "- Mustard Seeds: 1/2 tsp\n",
      "- Curry Leaves: 10-12 \n",
      "- Dry Red Chillies: 2-3 \n",
      "- Asafoetida: a pinch \n",
      "- Onion: 1 medium-sized\n",
      "- Garlic: 3-4 cloves\n",
      "- Ginger: 1 inch\n",
      "- Green Chillies: 2-3 \n",
      "- Coriander Leaves: 2-3 tbsp\n",
      "\n",
      "Directions:\n",
      "1. Soak tamarind in 2 cups of warm water for 15-20 minutes.\n",
      "2. Extract the juice and discard the pulp.\n",
      "3. Wash and soak all the dals together for 30 minutes.\n",
      "4. Pressure cook the dals along with tamarind juice, jaggery, turmeric powder, sambar powder, rasam powder, and salt for 3-4 whistles or until the dal is soft and mushy.\n",
      "5. Heat oil in a pan, add mustard seeds, curry leaves, dry red chillies, and asafoetida.\n",
      "6. Once the mustard seeds splutter, add chopped onion, minced garlic, and grated ginger.\n",
      "7. Saute until the onion turns golden brown.\n",
      "8. Add chopped green chillies and saute for a minute.\n",
      "9. Add the cooked dal mixture to the pan and mix well.\n",
      "10. Garnish with chopped coriander leaves.\n",
      "11. Serve hot with steamed rice and a dollop of ghee.\n"
     ]
    }
   ],
   "source": [
    "cook('Bise Bele Bath', client) # https://en.wikipedia.org/wiki/Bisi_Bele_Bath"
   ]
  },
  {
   "cell_type": "markdown",
   "metadata": {},
   "source": [
    "### Tools"
   ]
  },
  {
   "cell_type": "code",
   "execution_count": 21,
   "metadata": {},
   "outputs": [],
   "source": [
    "import json\n",
    "from groq import Groq\n",
    "\n",
    "MODEL = 'mixtral-8x7b-32768'"
   ]
  },
  {
   "cell_type": "code",
   "execution_count": 14,
   "metadata": {},
   "outputs": [],
   "source": [
    "def convert(value: float, in_metric: str, out_metric: str) -> float:\n",
    "    \"\"\"Converts a value between units. \n",
    "    Currently only supports miles to kilometers.\n",
    "    \n",
    "    Args:\n",
    "        value: The numerical value to convert.\n",
    "        in_metric: The input unit (e.g., \"mile\").\n",
    "        out_metric: The desired output unit (e.g., \"km\").\n",
    "\n",
    "    Returns:\n",
    "        The converted value.\n",
    "    \n",
    "    Raises:\n",
    "        ValueError: If the conversion is not supported.\n",
    "    \"\"\"\n",
    "    print(value, in_metric, out_metric)\n",
    "    if in_metric.lower() == \"mile\" and out_metric.lower() == \"km\":\n",
    "        return value * 1.60934\n",
    "    else:\n",
    "        raise ValueError(\"Unsupported conversion: I only do miles to kms for now :D\")\n"
   ]
  },
  {
   "cell_type": "code",
   "execution_count": 3,
   "metadata": {},
   "outputs": [],
   "source": [
    "def construct_messages(user_prompt: str) -> list[dict]:\n",
    "    \"\"\"Constructs the initial list of messages for the conversation.\n",
    "    \n",
    "    Args:\n",
    "        user_prompt: The user's input prompt.\n",
    "\n",
    "    Returns:\n",
    "        A list of dictionaries representing the messages.\n",
    "    \"\"\"\n",
    "\n",
    "    return [\n",
    "        {\"role\": \"system\", \"content\": \"You are a function calling LLM...\"},\n",
    "        {\"role\": \"user\", \"content\": user_prompt},\n",
    "    ]"
   ]
  },
  {
   "cell_type": "code",
   "execution_count": 4,
   "metadata": {},
   "outputs": [],
   "source": [
    "def construct_tools() -> list[dict]:\n",
    "    \"\"\"Defines the available tools (functions) for the LLM.\n",
    "\n",
    "    Returns:\n",
    "        A list of dictionaries describing the tools.\n",
    "    \"\"\"\n",
    "    return [\n",
    "        {\n",
    "            \"type\": \"function\",\n",
    "            \"function\": {\n",
    "                \"name\": \"convert\",\n",
    "                \"description\": \"Convert between units\",\n",
    "                \"parameters\": {\n",
    "                    \"type\": \"object\",\n",
    "                    \"properties\": {\n",
    "                        \"value\": {\n",
    "                            \"type\": \"number\",\n",
    "                            \"description\": \"the value that we are trying to convert\",\n",
    "                        },\n",
    "                        \"in_metric\": {\n",
    "                            \"type\": \"string\",\n",
    "                            \"description\": \"the input metric\"\n",
    "                        },\n",
    "                        \"out_metric\": {\n",
    "                            \"type\": \"string\",\n",
    "                            \"description\": \"the output metric\"\n",
    "                        }\n",
    "                    },\n",
    "                    \"required\": [\"value\", \"in_metric\", \"out_metric\"],\n",
    "                },\n",
    "            },\n",
    "        }\n",
    "    ]"
   ]
  },
  {
   "cell_type": "code",
   "execution_count": 12,
   "metadata": {},
   "outputs": [],
   "source": [
    "def call_function(tool_call: dict, available_functions: dict) -> dict:\n",
    "    \"\"\"Calls the specified function with the provided arguments.\n",
    "    \n",
    "    Args:\n",
    "        tool_call: A dictionary containing information about the function call.\n",
    "        available_functions: A dictionary mapping function names to functions.\n",
    "\n",
    "    Returns:\n",
    "        A dictionary representing the function call response.\n",
    "    \"\"\"\n",
    "    function_name = tool_call.function.name  # Access attributes using dot notation\n",
    "    function_to_call = available_functions[function_name]\n",
    "    function_args = json.loads(tool_call.function.arguments)\n",
    "    function_response = function_to_call(**function_args) \n",
    "    return {\n",
    "        \"tool_call_id\": tool_call.id,  # Access 'id' attribute directly\n",
    "        \"role\": \"tool\",\n",
    "        \"name\": function_name,\n",
    "        \"content\": str(function_response),\n",
    "    }\n"
   ]
  },
  {
   "cell_type": "code",
   "execution_count": 6,
   "metadata": {},
   "outputs": [],
   "source": [
    "def process_tool_calls(\n",
    "    messages: list[dict], tool_calls: list[dict], available_functions: dict\n",
    ") -> list[dict]:\n",
    "    \"\"\"Processes tool calls by calling the functions and adding responses to messages.\n",
    "\n",
    "    Args:\n",
    "        messages: The current list of messages in the conversation.\n",
    "        tool_calls: A list of tool calls made by the LLM.\n",
    "        available_functions: A dictionary mapping function names to functions.\n",
    "\n",
    "    Returns:\n",
    "        An updated list of messages including tool call responses.\n",
    "    \"\"\"\n",
    "\n",
    "    return messages + [\n",
    "        call_function(tool_call, available_functions) for tool_call in tool_calls\n",
    "    ]\n"
   ]
  },
  {
   "cell_type": "code",
   "execution_count": 7,
   "metadata": {},
   "outputs": [],
   "source": [
    "def run_conversation(client: Groq, user_prompt: str) -> str:\n",
    "    \"\"\"Runs a conversation with the LLM, handling function calls and responses.\n",
    "\n",
    "    Args:\n",
    "        client: The Groq client instance. \n",
    "        user_prompt: The user's input prompt.\n",
    "\n",
    "    Returns:\n",
    "        The final response from the LLM.\n",
    "    \"\"\"\n",
    "\n",
    "    messages = construct_messages(user_prompt)\n",
    "    tools = construct_tools()\n",
    "\n",
    "    response = client.chat.completions.create(\n",
    "        model=MODEL, messages=messages, tools=tools, tool_choice=\"auto\", max_tokens=4096\n",
    "    )\n",
    "\n",
    "    response_message = response.choices[0].message\n",
    "    tool_calls = response_message.tool_calls\n",
    "\n",
    "    if tool_calls:\n",
    "        available_functions = {\"convert\": convert}\n",
    "        messages = process_tool_calls(\n",
    "            messages + [response_message], tool_calls, available_functions\n",
    "        )\n",
    "        second_response = client.chat.completions.create(model=MODEL, messages=messages)\n",
    "        return second_response.choices[0].message.content "
   ]
  },
  {
   "cell_type": "code",
   "execution_count": 18,
   "metadata": {},
   "outputs": [
    {
     "name": "stdout",
     "output_type": "stream",
     "text": [
      "1 mile km\n",
      "The conversion of 1 mile to kilometers is approximately 1.60934. This result reflects the distance in kilometers, which is the metric unit equivalent of 1 mile.\n"
     ]
    }
   ],
   "source": [
    "user_prompt = \"Convert 1 mile to km\"\n",
    "result = run_conversation(client, user_prompt)\n",
    "print(result)\n"
   ]
  },
  {
   "cell_type": "code",
   "execution_count": null,
   "metadata": {},
   "outputs": [],
   "source": []
  }
 ],
 "metadata": {
  "kernelspec": {
   "display_name": "Python 3",
   "language": "python",
   "name": "python3"
  },
  "language_info": {
   "codemirror_mode": {
    "name": "ipython",
    "version": 3
   },
   "file_extension": ".py",
   "mimetype": "text/x-python",
   "name": "python",
   "nbconvert_exporter": "python",
   "pygments_lexer": "ipython3",
   "version": "3.10.13"
  }
 },
 "nbformat": 4,
 "nbformat_minor": 2
}

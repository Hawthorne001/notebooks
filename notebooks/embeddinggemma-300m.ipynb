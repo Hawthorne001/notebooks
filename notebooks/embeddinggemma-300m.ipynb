{
  "cells": [
    {
      "cell_type": "markdown",
      "metadata": {
        "id": "299c15cb"
      },
      "source": [
        "# Semantic Search with `google/embeddinggemma-300m`"
      ]
    },
    {
      "cell_type": "markdown",
      "metadata": {
        "id": "31fc8a6e"
      },
      "source": [
        "This notebook demonstrates how to perform a semantic search using the `txtai` library and the Embedding Gemma model."
      ]
    },
    {
      "cell_type": "code",
      "source": [
        "!pip install -q git+https://github.com/huggingface/transformers@v4.56.0-Embedding-Gemma-preview\n",
        "!pip install -q sentence-transformers\n",
        "!pip install -q txtai\n",
        "!pip install -q wikipedia"
      ],
      "metadata": {
        "colab": {
          "base_uri": "https://localhost:8080/"
        },
        "id": "Os3krFm6mzJo",
        "outputId": "ebaf2c01-7970-4bfa-c2b1-7f4bc95fd91d"
      },
      "execution_count": 2,
      "outputs": [
        {
          "output_type": "stream",
          "name": "stdout",
          "text": [
            "  Installing build dependencies ... \u001b[?25l\u001b[?25hdone\n",
            "  Getting requirements to build wheel ... \u001b[?25l\u001b[?25hdone\n",
            "  Preparing metadata (pyproject.toml) ... \u001b[?25l\u001b[?25hdone\n",
            "  Building wheel for transformers (pyproject.toml) ... \u001b[?25l\u001b[?25hdone\n",
            "\u001b[2K   \u001b[90m\u2501\u2501\u2501\u2501\u2501\u2501\u2501\u2501\u2501\u2501\u2501\u2501\u2501\u2501\u2501\u2501\u2501\u2501\u2501\u2501\u2501\u2501\u2501\u2501\u2501\u2501\u2501\u2501\u2501\u2501\u2501\u2501\u2501\u2501\u2501\u2501\u2501\u2501\u2501\u2501\u001b[0m \u001b[32m288.2/288.2 kB\u001b[0m \u001b[31m9.0 MB/s\u001b[0m eta \u001b[36m0:00:00\u001b[0m\n",
            "\u001b[2K   \u001b[90m\u2501\u2501\u2501\u2501\u2501\u2501\u2501\u2501\u2501\u2501\u2501\u2501\u2501\u2501\u2501\u2501\u2501\u2501\u2501\u2501\u2501\u2501\u2501\u2501\u2501\u2501\u2501\u2501\u2501\u2501\u2501\u2501\u2501\u2501\u2501\u2501\u2501\u2501\u2501\u2501\u001b[0m \u001b[32m31.4/31.4 MB\u001b[0m \u001b[31m51.3 MB/s\u001b[0m eta \u001b[36m0:00:00\u001b[0m\n",
            "\u001b[?25h  Preparing metadata (setup.py) ... \u001b[?25l\u001b[?25hdone\n",
            "  Building wheel for wikipedia (setup.py) ... \u001b[?25l\u001b[?25hdone\n"
          ]
        }
      ]
    },
    {
      "cell_type": "markdown",
      "metadata": {
        "id": "f1fb3b0f"
      },
      "source": [
        "Import the `Embeddings` class from the `txtai` library."
      ]
    },
    {
      "cell_type": "code",
      "source": [
        "from txtai import Embeddings"
      ],
      "metadata": {
        "id": "gB-ZTUtSm131"
      },
      "execution_count": 3,
      "outputs": []
    },
    {
      "cell_type": "markdown",
      "metadata": {
        "id": "da6dbdb5"
      },
      "source": [
        "Initialize the `Embeddings` model. We specify the model path as \"google/embeddinggemma-300m\" and the method as \"sentence-transformers\". We also provide instructions for query and data formatting to ensure compatibility with the model."
      ]
    },
    {
      "cell_type": "code",
      "source": [
        "embeddings = Embeddings(\n",
        "    path=\"google/embeddinggemma-300m\",\n",
        "    method=\"sentence-transformers\",\n",
        "    instructions={\n",
        "        \"query\": \"task: search result | query: \",\n",
        "        \"data\": \"title: none | text: \",\n",
        "    })"
      ],
      "metadata": {
        "colab": {
          "base_uri": "https://localhost:8080/",
          "height": 529,
          "referenced_widgets": [
            "3f24c4ad493b49018692202ee2c7b901",
            "d18cc0cab7144c1ba45e921ff281c503",
            "49b62999e4524ec989c4706b396b833a",
            "b24aed58025f460e9321ec5811e9540b",
            "002b4c90558f4548a6da6c192a17eea4",
            "24c85c8e461948189bed05e6b99b6233",
            "9a88bcefd0d04248aaa54f86d39cfa2f",
            "86ef1132a98f429da7084ee2c52dc1af",
            "580496afa1e14af3b132f51f92eb0d4d",
            "d544241459fc40f29471ac96fca1de54",
            "82e6564edfe747f7b8ae3ddee7e06e64",
            "654828f606f8483b8c20507220c8e06e",
            "c4c69bd68b864e14bb2de66fb6f7550e",
            "2ac111686c5f4a03ac8577af79514a67",
            "eb2d26f7f72149e392a82732d0c10473",
            "d3bf5f1a32cb4715950a85da42bff3a9",
            "2cddef0ed00b4368a4f9b5b5be551c9f",
            "ec6089d771114aa882d13c2d86bfb524",
            "fd5bb4b8c64e4960bc09921d3cadd008",
            "ae96fad633a8493a8409738ca7e5b258",
            "06158f916ef84c97a9cee3ded0cd5e93",
            "aac0a70e6fd347f892ea7e21f426a19f",
            "68738e7e67c845c08f8c713734b633cf",
            "535a48882ecd4788a367ef60d0c0769f",
            "54efd4ba0c214cb5ac15e5095f7551fc",
            "2d6a2f64adaf48ef8b83d4bda37b5136",
            "7a49553d276d4fb0814ca3416792064b",
            "e582b5f640334d0988f5410154433bf1",
            "873e4f9402a04b76a4e690fe40f2145b",
            "24e3db76971748a68f771b86998a7885",
            "752a1e1f6553457e82becaba96767b59",
            "0ac56787ac7b41e5a2dc68895f78d66a",
            "a01076044d8a48638ac77a76ba21cbdd",
            "40e0a321344747d59a57a74ad266a41b",
            "e251ae5a0dc548d6b91017284ee9ae05",
            "6d992f7c5d8142009f068d91b4745d5b",
            "613d3ba85edd4742a916101c4a7ad2a3",
            "2ec16b0e1b0948d490ae9f08e7fffb76",
            "fc7957b9309f470fbb69b5e32cfd64d8",
            "e51808b38f9c4eb48288cc486b859f37",
            "29d3526b253747ce9fd2de73cf6bd776",
            "52442744e52b44e589c9e9da21a0a329",
            "7ca48e477a3d4d7f9d648264707c04a4",
            "f726386fd9b24609a16fc94bcab5d29a",
            "a4cf35c0f92e4de4a24ce6a1f4275417",
            "951c91439fa84f0c9e8931cd5fc115f6",
            "8e2d14ba19ed48589ad57703910fa7cd",
            "29df6fce953045bdb1b7e26ecc26792d",
            "f7178eb4f23d4ad996b1d09d1e999f40",
            "45024a351e834d548234331bb01f89aa",
            "716b107a72d145a5af881773b86ad302",
            "58f38ee15b20498ab28cb70d8bdcc107",
            "5af234b027604096bc662a3d32213c31",
            "82952fc4e42f4fac867e13e115761bf0",
            "ff6d96f8d8d0431fa348d410c5483079",
            "e5cccabbaab649b789ffaf0745e0e47b",
            "a001fe0cd65d4987aea2683ef315d45d",
            "7a94859878d54c35b911eef18e2dc7ae",
            "87fdc9abca7e45c4bd043cdee847dcb2",
            "b56a7e2a7a084ae8861a7a5fcd832d96",
            "df5b7d1c2f2f480bb4591ca5e39600bb",
            "1152b3af7690429f9171d674e36d35eb",
            "e43e7111e9964bf281190b978d1ea543",
            "cb54b3a6b94a48f69f5d553bc7f65fe4",
            "7d0d8b0d07b9417e86c20af7186dd20f",
            "ff7bae1976f846f394c3246677410060",
            "418a0422d60641fdb71f034b62f675db",
            "ae43383ae1a24e0ea43aaba17702e144",
            "dd74e45cf89647e18e9129fa9656839e",
            "74960fa4c9f140758abb04d49fe04545",
            "239a9795290b45fbbbb53534d522b451",
            "590cd480c0344aeebb20e6e216f34616",
            "454695b82a104510bec93bb38c12191a",
            "23911c3734c94b45b8d4948b97381132",
            "1f3146cf68694a3ea80116cc22cbcebf",
            "f8699114f02c4057bd21a09296b121e0",
            "003f20ceb40c421da2e0e928a3d4c5af",
            "501ee062e29a44dc8d0c54c59bb4b9ab",
            "c82f918de08b49eca114287406305974",
            "490f2455dad149da9cee0f0ed61fa952",
            "5edd6b4d40bb4ec7b086c035c4a6b9e6",
            "d5ffa4f273cf4e05afe7ce8698068348",
            "4e48bdbdd48f4df5b11e69ec8b8a5247",
            "5fbb1b4359924153bcb40c5a375e03a7",
            "cb8ab8227ce34fbba5133d2c86841f62",
            "fb45b29c9a5f4d8786f1683dee00741c",
            "cf42c692d8a84dd7b206e9b32c8e5584",
            "36c58382cf8b48d2a7a8bf693a76f9d9",
            "e9983b52770447e2a04fa2f3318a741c",
            "949187dcaebb40908d36863165bf11c6",
            "f9c5421d91ad4638b7d5c67d0a83c979",
            "39c1bb668a784d2ba953de9964c51c31",
            "d4e2b51205dc4eedaa85977e65f85412",
            "2d78d43ec1e849f1b162b073261978a9",
            "1cf4285329f64e8dbe272efcec766804",
            "60afbdfcfcfd4f038de190ea2642a283",
            "d96e56361bc5480bab73325c9c745138",
            "6daefeb259214ffc88564bb3ef0d5e14",
            "739791a28a954d9b90856d01620692c3",
            "ea1f8e223b7e486a9f98d7fc0ab9b18d",
            "30ec17f19db4484889b0736e20a6808c",
            "ec95e79dc2e14c8fb3df590c13ea0494",
            "89979d563a2143b884e7360d58b3e148",
            "ba3a063a507846b4b9a8cbde24004e06",
            "e676aa54423442a192710697176ff328",
            "dd0c0d6838b04a1295821505aa7f0469",
            "631ec1c769d24dcda911ecf5be0456c8",
            "427403f301cb44debff0edf2cf4d836f",
            "27c3ea7f0e94448891ccc57e1dbacbc4",
            "6abd6d6e8be84502a6e35ce3ffb7ab70",
            "8372ed28311440c598d8b0de4c93a892",
            "cdd4e76ad34a4682a3a840c7288ffc05",
            "d09ac64b02524163bc7df0f7b4b459a3",
            "104e518f24624ae28ec73507746847ee",
            "eacf2fb89eee48498bcdc379a645fab6",
            "6d3fc394a08e466da982969d0257dc12",
            "b2073cfe9f0e4870845091e30db532f2",
            "87ab8222bd7248778b5ab31ad6795fa9",
            "ab98e5d556a04fa39b63573b1a3a3a98",
            "d51051a98bad481a9bb8264c57b3bb05",
            "f4a688c5d4cb466ba52da154d80a1d87",
            "04f27facb2e7484597f918b107525829",
            "fe724d0c98b147429d02f8718798afc4",
            "45e8c5de50a14ccabc839374bda37844",
            "fc3cc28c7681438f8aa369a1821e1002",
            "11d6558dfb2a459ab829526abd4e7dbe",
            "e2ebde83cd1b4bcf9ba27ef4630ec527",
            "2bac633179bf4eae9a84d49ccb5853dc",
            "30cfa3762aa849f6a23b32322c11fb6f",
            "cb5cccfc8ada4bc889ccd4ad30806913",
            "1e82d7c2dc0349c599b0b38677f5c478",
            "b64ba9cb25a24978a6f2ee13ffa4b984",
            "9c9892d8e241448382d12e607dbb4c1d",
            "835ee59050c14157b60ec5e39c0921dc",
            "6460dbbb053a44239e567bcdffa81ad9",
            "41f923511b0143a6bce60e145de907f7",
            "ec479daa69d1437bbc13dd84007d47fa",
            "875cb2a0bd234900b91ff094e47532d0",
            "fbebcc29854843af937314b7f5eebe41",
            "af6903771d444eeb9e45e51b71cac078",
            "7655966cfa4245388c8e9651ecea07ea",
            "d825742daaee4ab89fae82242cc8cd4d",
            "efacebea5c6e4e25a0a00f1edf693269",
            "eebfb499150240d0ab4c9b70f7d3b89f",
            "d2262505c69b406aa379252c3e2c0371",
            "d41c200c50054e03ab993649ba6968ae",
            "0d0e548fb36d4440bd6e0e192e42e20d",
            "fb2cd64d055d47f791beadef434f32d7",
            "95f2e93061a540c482afb2311b0a77ca",
            "48037956b589477b930df925a804b49c",
            "23c429ce9b8b408196f2e24b59051a31",
            "cf5e3e0c40304b159987ae3d51328a22",
            "295a046070f74c02b6be97f6daa8fccd",
            "93ce7d0f41d441b8a44365d795bcd967",
            "4c304fb9c5c742ee85b5c7efa21182aa",
            "de7f21ae765848e9b77a0bb41c187afe",
            "489a72313e32420e9bdcc49d6ec422ba",
            "e5db1ec2ffe7496bb618d6cebeebc861",
            "22fa9c0c317d4c4e945ee6cd580299e1",
            "2a50dbd3a20c488d8c5130157a090bfa",
            "41c71d1c12b64facba5fbeab7695f224",
            "fac35c78076b4ebdb8476b8140993ef6",
            "1bdfca2d0c6e4917b8728e521e092594",
            "f0a1afa26b644559b69fe44771e58dd0",
            "4e69fefca3ef4e64a1a38197871dee44",
            "a080fbada5d04c5ebae32101cf2d912d",
            "6753535cba0a4a6f9e115146e5d250fa",
            "738cad78abcb4e2cba73730852c7ad52",
            "a45c4a18c07b45ecb82777db57571057",
            "9138e938da564e718e243816ad1fd715",
            "667da588ce7a478690306d3bd7e50447",
            "2e3262ece6b04002a600575606477ee4",
            "2ad26b6af0ab4d1aa4fb7a2e7dc2e468",
            "daf4d918f2924685a8482ed4a6b7e468",
            "90347eb2681340929ef49c8fbab7836e",
            "9a9072cebe2640bcb3a81de9aaf4a4e0"
          ]
        },
        "id": "nPCqq8XgnNx7",
        "outputId": "a8899144-ca34-4b68-e6e1-28a001996fba"
      },
      "execution_count": 4,
      "outputs": [
        {
          "output_type": "display_data",
          "data": {
            "text/plain": [
              "modules.json:   0%|          | 0.00/573 [00:00<?, ?B/s]"
            ],
            "application/vnd.jupyter.widget-view+json": {
              "version_major": 2,
              "version_minor": 0,
              "model_id": "3f24c4ad493b49018692202ee2c7b901"
            }
          },
          "metadata": {}
        },
        {
          "output_type": "display_data",
          "data": {
            "text/plain": [
              "config_sentence_transformers.json:   0%|          | 0.00/997 [00:00<?, ?B/s]"
            ],
            "application/vnd.jupyter.widget-view+json": {
              "version_major": 2,
              "version_minor": 0,
              "model_id": "654828f606f8483b8c20507220c8e06e"
            }
          },
          "metadata": {}
        },
        {
          "output_type": "display_data",
          "data": {
            "text/plain": [
              "README.md:   0%|          | 0.00/16.7k [00:00<?, ?B/s]"
            ],
            "application/vnd.jupyter.widget-view+json": {
              "version_major": 2,
              "version_minor": 0,
              "model_id": "68738e7e67c845c08f8c713734b633cf"
            }
          },
          "metadata": {}
        },
        {
          "output_type": "display_data",
          "data": {
            "text/plain": [
              "sentence_bert_config.json:   0%|          | 0.00/58.0 [00:00<?, ?B/s]"
            ],
            "application/vnd.jupyter.widget-view+json": {
              "version_major": 2,
              "version_minor": 0,
              "model_id": "40e0a321344747d59a57a74ad266a41b"
            }
          },
          "metadata": {}
        },
        {
          "output_type": "display_data",
          "data": {
            "text/plain": [
              "config.json:   0%|          | 0.00/1.49k [00:00<?, ?B/s]"
            ],
            "application/vnd.jupyter.widget-view+json": {
              "version_major": 2,
              "version_minor": 0,
              "model_id": "a4cf35c0f92e4de4a24ce6a1f4275417"
            }
          },
          "metadata": {}
        },
        {
          "output_type": "display_data",
          "data": {
            "text/plain": [
              "model.safetensors:   0%|          | 0.00/1.21G [00:00<?, ?B/s]"
            ],
            "application/vnd.jupyter.widget-view+json": {
              "version_major": 2,
              "version_minor": 0,
              "model_id": "e5cccabbaab649b789ffaf0745e0e47b"
            }
          },
          "metadata": {}
        },
        {
          "output_type": "display_data",
          "data": {
            "text/plain": [
              "tokenizer_config.json:   0%|          | 0.00/1.16M [00:00<?, ?B/s]"
            ],
            "application/vnd.jupyter.widget-view+json": {
              "version_major": 2,
              "version_minor": 0,
              "model_id": "418a0422d60641fdb71f034b62f675db"
            }
          },
          "metadata": {}
        },
        {
          "output_type": "display_data",
          "data": {
            "text/plain": [
              "tokenizer.model:   0%|          | 0.00/4.69M [00:00<?, ?B/s]"
            ],
            "application/vnd.jupyter.widget-view+json": {
              "version_major": 2,
              "version_minor": 0,
              "model_id": "501ee062e29a44dc8d0c54c59bb4b9ab"
            }
          },
          "metadata": {}
        },
        {
          "output_type": "display_data",
          "data": {
            "text/plain": [
              "tokenizer.json:   0%|          | 0.00/33.4M [00:00<?, ?B/s]"
            ],
            "application/vnd.jupyter.widget-view+json": {
              "version_major": 2,
              "version_minor": 0,
              "model_id": "e9983b52770447e2a04fa2f3318a741c"
            }
          },
          "metadata": {}
        },
        {
          "output_type": "display_data",
          "data": {
            "text/plain": [
              "added_tokens.json:   0%|          | 0.00/35.0 [00:00<?, ?B/s]"
            ],
            "application/vnd.jupyter.widget-view+json": {
              "version_major": 2,
              "version_minor": 0,
              "model_id": "ea1f8e223b7e486a9f98d7fc0ab9b18d"
            }
          },
          "metadata": {}
        },
        {
          "output_type": "display_data",
          "data": {
            "text/plain": [
              "special_tokens_map.json:   0%|          | 0.00/662 [00:00<?, ?B/s]"
            ],
            "application/vnd.jupyter.widget-view+json": {
              "version_major": 2,
              "version_minor": 0,
              "model_id": "8372ed28311440c598d8b0de4c93a892"
            }
          },
          "metadata": {}
        },
        {
          "output_type": "display_data",
          "data": {
            "text/plain": [
              "config.json:   0%|          | 0.00/312 [00:00<?, ?B/s]"
            ],
            "application/vnd.jupyter.widget-view+json": {
              "version_major": 2,
              "version_minor": 0,
              "model_id": "04f27facb2e7484597f918b107525829"
            }
          },
          "metadata": {}
        },
        {
          "output_type": "display_data",
          "data": {
            "text/plain": [
              "config.json:   0%|          | 0.00/134 [00:00<?, ?B/s]"
            ],
            "application/vnd.jupyter.widget-view+json": {
              "version_major": 2,
              "version_minor": 0,
              "model_id": "9c9892d8e241448382d12e607dbb4c1d"
            }
          },
          "metadata": {}
        },
        {
          "output_type": "display_data",
          "data": {
            "text/plain": [
              "2_Dense/model.safetensors:   0%|          | 0.00/9.44M [00:00<?, ?B/s]"
            ],
            "application/vnd.jupyter.widget-view+json": {
              "version_major": 2,
              "version_minor": 0,
              "model_id": "eebfb499150240d0ab4c9b70f7d3b89f"
            }
          },
          "metadata": {}
        },
        {
          "output_type": "display_data",
          "data": {
            "text/plain": [
              "config.json:   0%|          | 0.00/134 [00:00<?, ?B/s]"
            ],
            "application/vnd.jupyter.widget-view+json": {
              "version_major": 2,
              "version_minor": 0,
              "model_id": "4c304fb9c5c742ee85b5c7efa21182aa"
            }
          },
          "metadata": {}
        },
        {
          "output_type": "display_data",
          "data": {
            "text/plain": [
              "3_Dense/model.safetensors:   0%|          | 0.00/9.44M [00:00<?, ?B/s]"
            ],
            "application/vnd.jupyter.widget-view+json": {
              "version_major": 2,
              "version_minor": 0,
              "model_id": "a080fbada5d04c5ebae32101cf2d912d"
            }
          },
          "metadata": {}
        }
      ]
    },
    {
      "cell_type": "markdown",
      "metadata": {
        "id": "4e242653"
      },
      "source": [
        "Fetch the content of the Wikipedia page for \"Python (programming language)\" and split it into a list of strings, where each string is a paragraph or section."
      ]
    },
    {
      "cell_type": "code",
      "source": [
        "import wikipedia\n",
        "data = wikipedia.page(\"Python (programming language)\").content.split(\"\\n\")"
      ],
      "metadata": {
        "id": "rkpzynsZnPnN"
      },
      "execution_count": 5,
      "outputs": []
    },
    {
      "cell_type": "markdown",
      "metadata": {
        "id": "a04691db"
      },
      "source": [
        "Create a vector store by indexing the loaded data using the initialized embeddings model. This process converts the text data into numerical vectors that can be efficiently searched."
      ]
    },
    {
      "cell_type": "code",
      "source": [
        "# Create a sample vector store\n",
        "embeddings.index(data)"
      ],
      "metadata": {
        "id": "lQU-MsNVnXET"
      },
      "execution_count": 6,
      "outputs": []
    },
    {
      "cell_type": "markdown",
      "metadata": {
        "id": "18cf9aac"
      },
      "source": [
        "Define a query string and use the `embeddings.search()` method to find the top k most similar documents (paragraphs in this case) to the query within the indexed data."
      ]
    },
    {
      "cell_type": "code",
      "source": [
        "# Search for top k similar documents\n",
        "query = \"Who is the creating of Python?\"\n",
        "results = embeddings.search(query, 3)"
      ],
      "metadata": {
        "id": "sHpoBOSunYvJ"
      },
      "execution_count": 11,
      "outputs": []
    },
    {
      "cell_type": "markdown",
      "metadata": {
        "id": "98513c7b"
      },
      "source": [
        "Print the search results. Iterate through the search results and print the text of each matched document along with its similarity score."
      ]
    },
    {
      "cell_type": "code",
      "source": [
        "# Print results\n",
        "for idx, score in results:\n",
        "    print(f\"Text: {data[int(idx)]} (score: {score:.4f})\")"
      ],
      "metadata": {
        "colab": {
          "base_uri": "https://localhost:8080/"
        },
        "id": "dYfagUFtnaqS",
        "outputId": "9fc3a87f-b985-4e5f-b9a3-385159b54086"
      },
      "execution_count": 12,
      "outputs": [
        {
          "output_type": "stream",
          "name": "stdout",
          "text": [
            "Text: Python was conceived in the late 1980s by Guido van Rossum at Centrum Wiskunde & Informatica (CWI) in the Netherlands (he first released it in 1991 as Python 0.9.0.); it was conceived as a successor to the ABC programming language, which was inspired by SETL, capable of exception handling and interfacing with the Amoeba operating system. Python implementation began in December, 1989. Van Rossum assumed sole responsibility for the project, as the lead developer, until 12 July 2018, when he announced his \"permanent vacation\" from responsibilities as Python's \"benevolent dictator for life\" (BDFL); this title was bestowed on him by the Python community to reflect his long-term commitment as the project's chief decision-maker. (He has since come out of retirement and is self-titled \"BDFL-emeritus\".) In January 2019, active Python core developers elected a five-member Steering Council to lead the project. (score: 0.5758)\n",
            "Text: Python's name is inspired by the British comedy group Monty Python, whom Python creator Guido van Rossum enjoyed while developing the language. Monty Python references appear frequently in Python code and culture; for example, the metasyntactic variables often used in Python literature are spam and eggs, rather than the traditional foo and bar. The official Python documentation also contains various references to Monty Python routines. Python users are sometimes referred to as \"Pythonistas\". (score: 0.5332)\n",
            "Text: Guido van Rossum began working on Python in the late 1980s as a successor to the ABC programming language. Python 3.0, released in 2008, was a major revision not completely backward-compatible with earlier versions. Recent versions, such as Python 3.12, have added capabilites and keywords for typing (and more; e.g. increasing speed); helping with (optional) static typing. Currently only versions in the 3.x series are supported. (score: 0.4847)\n"
          ]
        }
      ]
    }
  ],
  "metadata": {
    "colab": {
      "name": "Welcome To Colab",
      "toc_visible": true,
      "provenance": []
    },
    "kernelspec": {
      "display_name": "Python 3",
      "name": "python3"
    }
  },
  "nbformat": 4,
  "nbformat_minor": 0
}
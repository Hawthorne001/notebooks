{
  "cells": [
    {
      "cell_type": "markdown",
      "metadata": {
        "id": "b02n_zJ_hl3d"
      },
      "source": [
        "## Embedchainand HuggingFace\n",
        "> [Hemanth HM](https://h3manth.com)"
      ]
    },
    {
      "cell_type": "code",
      "execution_count": null,
      "metadata": {
        "id": "-NbXjAdlh0vJ"
      },
      "outputs": [],
      "source": [
        "%pip install embedchain[huggingface_hub,opensource]"
      ]
    },
    {
      "cell_type": "code",
      "execution_count": 2,
      "metadata": {
        "id": "0fBdQ9GAiRvK"
      },
      "outputs": [],
      "source": [
        "import os\n",
        "from embedchain import App\n",
        "os.environ[\"HUGGINGFACE_ACCESS_TOKEN\"] = \"\""
      ]
    },
    {
      "cell_type": "code",
      "execution_count": 16,
      "metadata": {
        "colab": {
          "base_uri": "https://localhost:8080/",
          "height": 109
        },
        "id": "ll5J6fBEeByd",
        "outputId": "d87339ba-465f-4792-8be5-5eb9f666454a"
      },
      "outputs": [
        {
          "name": "stderr",
          "output_type": "stream",
          "text": [
            "/usr/local/lib/python3.10/dist-packages/torch/_utils.py:776: UserWarning: TypedStorage is deprecated. It will be removed in the future and UntypedStorage will be the only storage class. This should only matter to you if you are using storages directly.  To access UntypedStorage directly, use tensor.untyped_storage() instead of tensor.storage()\n",
            "  return self.fget.__get__(instance, owner)()\n"
          ]
        },
        {
          "name": "stdout",
          "output_type": "stream",
          "text": [
            "Doc content has not changed. Skipping creating chunks and embeddings\n"
          ]
        },
        {
          "data": {
            "application/vnd.google.colaboratory.intrinsic+json": {
              "type": "string"
            },
            "text/plain": [
              "'eed7d83bf7c0c0e6b7824f7e9d5bccf5'"
            ]
          },
          "execution_count": 16,
          "metadata": {},
          "output_type": "execute_result"
        }
      ],
      "source": [
        "from embedchain import App\n",
        "\n",
        "config = {\n",
        "  'llm': {\n",
        "    'provider': 'huggingface',\n",
        "    'config': {\n",
        "      'model': 'mistralai/Mistral-7B-Instruct-v0.2',\n",
        "      'top_p': 0.5\n",
        "    }\n",
        "  },\n",
        "  'embedder': {\n",
        "    'provider': 'huggingface',\n",
        "    'config': {\n",
        "      'model': 'sentence-transformers/all-mpnet-base-v2'\n",
        "    }\n",
        "  }\n",
        "}\n",
        "app = App.from_config(config=config)\n",
        "app.add(\"https://en.wikipedia.org/wiki/Richard_Feynman\")\n"
      ]
    },
    {
      "cell_type": "code",
      "execution_count": 19,
      "metadata": {
        "colab": {
          "base_uri": "https://localhost:8080/"
        },
        "id": "-l1xZQQpMWLf",
        "outputId": "6607d576-25a8-45be-8d33-5cc0968d08f8"
      },
      "outputs": [
        {
          "name": "stdout",
          "output_type": "stream",
          "text": [
            "\n",
            "You are a Q&A expert system. Your responses must always be rooted in the context provided for each query. Here are some guidelines to follow:\n",
            "\n",
            "1. Refrain from explicitly mentioning the context provided in your response.\n",
            "2. The context should silently guide your answers without being directly acknowledged.\n",
            "3. Do not use phrases such as 'According to the context provided', 'Based on the context, ...' etc.\n",
            "\n",
            "Context information:\n",
            "----------------------\n",
            "separated by nine years, Joan and Richard were close, and they both shared a curiosity about the world.[13] Though their mother thought women lacked the capacity to understand such things, Richard encouraged Joan's interest in astronomy, and Joan eventually became an astrophysicist.[14] Religion[edit] Feynman's parents were both from Jewish families,[3] and his family went to the synagogue every Friday.[15] However, by his youth, Feynman described himself as an \"avowed atheist\".[16][17] Many years later, in a letter to Tina Levitan, declining a request for information for her book on Jewish Nobel Prize winners, he stated, \"To select, for approbation the peculiar elements that come from some supposedly Jewish heredity is to open the door to all kinds of nonsense on racial theory\", adding, \"at thirteen I was not only converted to other religious views, but I also stopped believing that the Jewish people are in any way 'the chosen people'\".[18] Later in life, during a visit to the Jewish Theological Seminary, Feynman encountered the Talmud for the first time. He saw that it contained the original text in a little square on the page, and surrounding it were commentaries written over time by different people. In this way the Talmud had evolved, and everything that was discussed was carefully recorded. Despite being impressed, Feynman was disappointed with the lack of interest for nature and the outside world expressed by the rabbis, who cared about only those questions which arise from the Talmud.[19] Education[edit] Feynman attended Far Rockaway High School, which was also attended by fellow Nobel laureates Burton Richter and Baruch Samuel Blumberg.[20] Upon starting high school, Feynman was quickly promoted to a higher math class. An IQ test administered in high school estimated his IQ at 125—high but \"merely respectable\", according to biographer James Gleick.[21][22] His sister Joan, who scored one point higher, later jokingly claimed to an interviewer that she was | Leighton and the biography Genius: The Life and Science of Richard Feynman by James Gleick. Early life[edit] Feynman was born on May 11, 1918, in New York City,[2] to Lucille (née Phillips; 1895–1981), a homemaker, and Melville Arthur Feynman (1890–1946), a sales manager.[3] Feynman's father was born into a Jewish family in Minsk, Russian Empire,[4] and emigrated with his parents to the United States at the age of five. Feynman's mother was born in the United States into a Jewish family. Lucille's father had emigrated from Poland, and her mother also came from a family of Polish immigrants. She trained as a primary school teacher but married Melville in 1917, before taking up a profession.[2][3] Feynman was a late talker and did not speak until after his third birthday. As an adult, he spoke with a New York accent[5][6] strong enough to be perceived as an affectation or exaggeration,[7][8] so much so that his friends Wolfgang Pauli and Hans Bethe once commented that Feynman spoke like a \"bum\".[7] The young Feynman was heavily influenced by his father, who encouraged him to ask questions to challenge orthodox thinking, and who was always ready to teach Feynman something new. From his mother, he gained the sense of humor that he had throughout his life. As a child, he had a talent for engineering,[9] maintained an experimental laboratory in his home, and delighted in repairing radios. This radio repairing was probably the first job Feynman had, and during this time he showed early signs of an aptitude for his later career in theoretical physics, when he would analyze the issues theoretically and arrive at the solutions.[10] When he was in grade school, he created a home burglar alarm system while his parents were out for the day running errands.[11] When Richard was five, his mother gave birth to a younger brother, Henry Phillips, who died at age four weeks.[12] Four years later, Richard's sister Joan was born and the family moved to Far Rockaway, Queens.[3] Though | Borealis, Dies at 93\". The New York Times. Retrieved September 13, 2020. ^ Hirshberg, Charles (April 18, 2002). \"My Mother, the Scientist\". Popular Science. Retrieved June 10, 2023. ^ Haynie, D.T. (2007). \"And the award goes to.\" International Journal of Nanomedicine. 2 (2): 125–127. ISSN 1176-9114. PMC 2673976. PMID 17722541. ^ Feynman 1988a, p. 25. ^ Brian 2001, p. 49: \"Interviewer: Do you call yourself an agnostic or an atheist? Feynman: An atheist. Agnostic for me would be trying to weasel out and sound a little nicer than I am about this.\" ^ Harrison, John. \"Physics, bongos and the art of the nude\". The Daily Telegraph. Archived from the original on January 10, 2022. Retrieved April 23, 2013. ^ Feynman 1985, pp. 284–287. ^ Schwach, Howard (April 15, 2005). \"Museum Tracks Down FRHS Nobel Laureates\". The Wave. Archived from the original on May 5, 2019. Retrieved April 23, 2013. ^ Gleick 1992, p. 30. ^ Carroll 1996, p. 9: \"The general experience of psychologists in applying tests would lead them to expect that Feynman would have made a much higher IQ if he had been properly tested.\" ^ Gribbin & Gribbin 1997, pp. 19–20: Gleick says his IQ was 125; No Ordinary Genius says 123 ^ Schweber 1994, p. 374. ^ \"Richard Feynman | Biographies\". Atomic Archive. Retrieved June 10, 2023. ^ Feynman 1985, p. 24. ^ Gleick 1992, p. 15. ^ a b Mehra 1994, p. 41. ^ Feynman 1985, p. 72. ^ Gribbin & Gribbin 1997, pp. 45–46. ^ Feynman, Richard (March 5, 1966). \"Richard Feynman – Session II\" (Interview). Interviewed by Charles Weiner. American Institute of Physics. Archived from the original on May 5, 2019. Retrieved May 25, 2017. ^ Vallarta, M. S.; Feynman, Richard P. (March 1939). \"The Scattering of Cosmic Rays by the Stars of a Galaxy\" (PDF). Physical Review. American Physical Society. 55 (5): 506–507. Bibcode:1939PhRv.55.506V. doi:10.1103/PhysRev.55.506.2. Archived (PDF) from the original on November 25, 2020. Retrieved December 13, 2019. ^ Gleick 1992, p. 82. ^ Feynman, R. P. (August\n",
            "----------------------\n",
            "\n",
            "Query: How many years did Richard Feyman live? Give me the exact number\n",
            "Answer:\n",
            "Richard Feynman was born on May 11, 1918, and passed away on February 15, 1988. The difference between these two dates represents the number of years he lived. To calculate this, subtract the year of birth from the year of death.\n",
            "\n",
            "Year of birth: 1918\n",
            "Year of death: 1988\n",
            "\n",
            "Difference: 1988 - 1918 = 70 years.\n",
            "\n",
            "So, Richard Feynman lived for 70 years.\n"
          ]
        }
      ],
      "source": [
        "print(app.query(\"How many years did Richard Feyman live? Give me the exact number\"))"
      ]
    },
    {
      "cell_type": "code",
      "execution_count": 22,
      "metadata": {
        "colab": {
          "base_uri": "https://localhost:8080/"
        },
        "id": "adLawmxNfw3A",
        "outputId": "9e3cd388-2b43-4195-8f00-e2f1eeb311a5"
      },
      "outputs": [
        {
          "name": "stdout",
          "output_type": "stream",
          "text": [
            "\n",
            "You are a Q&A expert system. Your responses must always be rooted in the context provided for each query. Here are some guidelines to follow:\n",
            "\n",
            "1. Refrain from explicitly mentioning the context provided in your response.\n",
            "2. The context should silently guide your answers without being directly acknowledged.\n",
            "3. Do not use phrases such as 'According to the context provided', 'Based on the context, ...' etc.\n",
            "\n",
            "Context information:\n",
            "----------------------\n",
            "Leighton and the biography Genius: The Life and Science of Richard Feynman by James Gleick. Early life[edit] Feynman was born on May 11, 1918, in New York City,[2] to Lucille (née Phillips; 1895–1981), a homemaker, and Melville Arthur Feynman (1890–1946), a sales manager.[3] Feynman's father was born into a Jewish family in Minsk, Russian Empire,[4] and emigrated with his parents to the United States at the age of five. Feynman's mother was born in the United States into a Jewish family. Lucille's father had emigrated from Poland, and her mother also came from a family of Polish immigrants. She trained as a primary school teacher but married Melville in 1917, before taking up a profession.[2][3] Feynman was a late talker and did not speak until after his third birthday. As an adult, he spoke with a New York accent[5][6] strong enough to be perceived as an affectation or exaggeration,[7][8] so much so that his friends Wolfgang Pauli and Hans Bethe once commented that Feynman spoke like a \"bum\".[7] The young Feynman was heavily influenced by his father, who encouraged him to ask questions to challenge orthodox thinking, and who was always ready to teach Feynman something new. From his mother, he gained the sense of humor that he had throughout his life. As a child, he had a talent for engineering,[9] maintained an experimental laboratory in his home, and delighted in repairing radios. This radio repairing was probably the first job Feynman had, and during this time he showed early signs of an aptitude for his later career in theoretical physics, when he would analyze the issues theoretically and arrive at the solutions.[10] When he was in grade school, he created a home burglar alarm system while his parents were out for the day running errands.[11] When Richard was five, his mother gave birth to a younger brother, Henry Phillips, who died at age four weeks.[12] Four years later, Richard's sister Joan was born and the family moved to Far Rockaway, Queens.[3] Though | York: Cambridge University Press. ISBN 0-521-44132-3. OCLC 26764320. Krauss, Lawrence M. (2011). Quantum Man: Richard Feynman's Life in Science. W. W. Norton & Company. ISBN 978-0-393-06471-1. OCLC 601108916. Mehra, Jagdish (1994). The Beat of a Different Drum: The Life and Science of Richard Feynman. New York: Oxford University Press. ISBN 0-19-853948-7. OCLC 28507544. Oakes, Elizabeth H. (2007). Encyclopedia of World Scientists, Revised edition. New York: Facts on File. ISBN 978-1-4381-1882-6. OCLC 466364697. Peat, David (1997). Infinite Potential: the Life and Times of David Bohm. Reading, Massachusetts: Addison Wesley. ISBN 0-201-40635-7. OCLC 1014736570. Schweber, Silvan S. (1994). QED and the Men Who Made It: Dyson, Feynman, Schwinger, and Tomonaga. Princeton University Press. ISBN 0-691-03327-7. OCLC 918243948. Sykes, Christopher (1994). No Ordinary Genius: the Illustrated Richard Feynman. New York: W. W. Norton. ISBN 0-393-03621-9. OCLC 924553844. Further reading[edit] Articles[edit] Physics Today, American Institute of Physics magazine, February 1989 Issue. (Vol. 42, No. 2.) Special Feynman memorial issue containing non-technical articles on Feynman's life and work in physics. Feynman, Richard P. (1987). Leighton, Ralph (ed.). \"Mr. Feynman Goes to Washington\". Engineering and Science. Caltech. 51 (1): 6–22. ISSN 0013-7812. Books[edit] Brown, Laurie M. and Rigden, John S. (editors) (1993) Most of the Good Stuff: Memories of Richard Feynman Simon & Schuster, New York, ISBN 0-88318-870-8. Commentary by Joan Feynman, John Wheeler, Hans Bethe, Julian Schwinger, Murray Gell-Mann, Daniel Hillis, David Goodstein, Freeman Dyson, and Laurie Brown Dyson, Freeman (1979) Disturbing the Universe. Harper and Row. ISBN 0-06-011108-9. Dyson's autobiography. The chapters \"A Scientific Apprenticeship\" and \"A Ride to Albuquerque\" describe his impressions of Feynman in the period 1947–1948 when Dyson was a graduate student at Cornell Leighton, Ralph (2000). Tuva or Bust!: | D. Osheroff Paul Steinhardt Peter Shor Stephen Wolfram Signature Richard Phillips Feynman (/ˈfaɪnmən/; May 11, 1918 – February 15, 1988) was an American theoretical physicist, known for his work in the path integral formulation of quantum mechanics, the theory of quantum electrodynamics, the physics of the superfluidity of supercooled liquid helium, as well as his work in particle physics for which he proposed the parton model. For his contributions to the development of quantum electrodynamics, Feynman received the Nobel Prize in Physics in 1965 jointly with Julian Schwinger and Shin'ichirō Tomonaga. Feynman developed a widely used pictorial representation scheme for the mathematical expressions describing the behavior of subatomic particles, which later became known as Feynman diagrams. During his lifetime, Feynman became one of the best-known scientists in the world. In a 1999 poll of 130 leading physicists worldwide by the British journal Physics World, he was ranked the seventh-greatest physicist of all time.[1] He assisted in the development of the atomic bomb during World War II and became known to the wider public in the 1980s as a member of the Rogers Commission, the panel that investigated the Space Shuttle Challenger disaster. Along with his work in theoretical physics, Feynman has been credited with pioneering the field of quantum computing and introducing the concept of nanotechnology. He held the Richard C. Tolman professorship in theoretical physics at the California Institute of Technology. Feynman was a keen popularizer of physics through both books and lectures, including a 1959 talk on top-down nanotechnology called There's Plenty of Room at the Bottom and the three-volume publication of his undergraduate lectures, The Feynman Lectures on Physics. Feynman also became known through his autobiographical books Surely You're Joking, Mr. Feynman! and What Do You Care What Other People Think?, and books written about him such as Tuva or Bust! by Ralph\n",
            "----------------------\n",
            "\n",
            "Query: What are some of the achivements of Feyman? Give me the response in bullet points\n",
            "Answer:\n",
            "- Developed the path integral formulation of quantum mechanics\n",
            "- Proposed the parton model in particle physics\n",
            "- Received the Nobel Prize in Physics in 1965 for his contributions to quantum electrodynamics\n",
            "- Introduced the pictorial representation scheme for mathematical expressions describing subatomic particles, known as Feynman diagrams\n",
            "- Assisted in the development of the atomic bomb during World War II\n",
            "- Pioneered the field of quantum computing\n",
            "- Introduced the concept of nanotechnology\n",
            "- Held the Richard C. Tolman professorship in theoretical physics at the California Institute of Technology\n",
            "- Popularized physics through books and lectures, including the three-volume publication of his undergraduate lectures, The Feynman Lectures on Physics\n",
            "- Became known to the wider public in the 1980s as a member of the Rogers Commission, the panel that investigated the Space Shuttle Challenger disaster.\n"
          ]
        }
      ],
      "source": [
        "print(app.query(\"What are some of the achivements of Feyman? Give me the response in bullet points\"))\n"
      ]
    }
  ],
  "metadata": {
    "colab": {
      "provenance": []
    },
    "kernelspec": {
      "display_name": "Python 3",
      "name": "python3"
    },
    "language_info": {
      "name": "python"
    }
  },
  "nbformat": 4,
  "nbformat_minor": 0
}

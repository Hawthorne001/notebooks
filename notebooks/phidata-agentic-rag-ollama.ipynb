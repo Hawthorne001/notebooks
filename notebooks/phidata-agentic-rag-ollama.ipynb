{
 "cells": [
  {
   "cell_type": "code",
   "execution_count": 11,
   "id": "a461b9bb-40e1-4a18-b14c-91c9bb70ff4e",
   "metadata": {},
   "outputs": [
    {
     "name": "stdout",
     "output_type": "stream",
     "text": [
      "\n",
      "\u001b[1m[\u001b[0m\u001b[34;49mnotice\u001b[0m\u001b[1;39;49m]\u001b[0m\u001b[39;49m A new release of pip is available: \u001b[0m\u001b[31;49m24.0\u001b[0m\u001b[39;49m -> \u001b[0m\u001b[32;49m24.3.1\u001b[0m\n",
      "\u001b[1m[\u001b[0m\u001b[34;49mnotice\u001b[0m\u001b[1;39;49m]\u001b[0m\u001b[39;49m To update, run: \u001b[0m\u001b[32;49mpip install --upgrade pip\u001b[0m\n"
     ]
    }
   ],
   "source": [
    "!pip install -qU phidata tantivy ipywidgets"
   ]
  },
  {
   "cell_type": "code",
   "execution_count": 13,
   "id": "38243a75-32bb-4c29-8647-ecb08b07117f",
   "metadata": {},
   "outputs": [],
   "source": [
    "from phi.agent import Agent\n",
    "from phi.model.ollama  import Ollama\n",
    "from phi.embedder.ollama import OllamaEmbedder\n",
    "from phi.knowledge.pdf import PDFUrlKnowledgeBase\n",
    "from phi.vectordb.lancedb import LanceDb, SearchType"
   ]
  },
  {
   "cell_type": "code",
   "execution_count": 18,
   "id": "18dcf78d-b758-429c-83af-e7338c02c5b7",
   "metadata": {},
   "outputs": [],
   "source": [
    "knowledge_base = PDFUrlKnowledgeBase(\n",
    "    urls=[\"https://antilogicalism.com/wp-content/uploads/2017/07/mans-search-for-meaning.pdf\"],\n",
    "    vector_db=LanceDb(\n",
    "        table_name=\"recipes\",\n",
    "        uri=\"tmp/lancedb\",\n",
    "        search_type=SearchType.vector,\n",
    "        embedder=OllamaEmbedder(model=\"mxbai-embed-large\"),\n",
    "    ),\n",
    ")"
   ]
  },
  {
   "cell_type": "code",
   "execution_count": 15,
   "id": "78705527-1e3e-4831-a78e-3172570a1e21",
   "metadata": {},
   "outputs": [
    {
     "data": {
      "text/html": [
       "<pre style=\"white-space:pre;overflow-x:auto;line-height:normal;font-family:Menlo,'DejaVu Sans Mono',consolas,'Courier New',monospace\"><span style=\"color: #000080; text-decoration-color: #000080\">INFO    </span> Creating collection                                                                                       \n",
       "</pre>\n"
      ],
      "text/plain": [
       "\u001b[34mINFO    \u001b[0m Creating collection                                                                                       \n"
      ]
     },
     "metadata": {},
     "output_type": "display_data"
    },
    {
     "data": {
      "text/html": [
       "<pre style=\"white-space:pre;overflow-x:auto;line-height:normal;font-family:Menlo,'DejaVu Sans Mono',consolas,'Courier New',monospace\"><span style=\"color: #000080; text-decoration-color: #000080\">INFO    </span> Loading knowledge base                                                                                    \n",
       "</pre>\n"
      ],
      "text/plain": [
       "\u001b[34mINFO    \u001b[0m Loading knowledge base                                                                                    \n"
      ]
     },
     "metadata": {},
     "output_type": "display_data"
    },
    {
     "data": {
      "text/html": [
       "<pre style=\"white-space:pre;overflow-x:auto;line-height:normal;font-family:Menlo,'DejaVu Sans Mono',consolas,'Courier New',monospace\"><span style=\"color: #000080; text-decoration-color: #000080\">INFO    </span> Reading: <span style=\"color: #0000ff; text-decoration-color: #0000ff; text-decoration: underline\">https://antilogicalism.com/wp-content/uploads/2017/07/mans-search-for-meaning.pdf</span>                \n",
       "</pre>\n"
      ],
      "text/plain": [
       "\u001b[34mINFO    \u001b[0m Reading: \u001b[4;94mhttps://antilogicalism.com/wp-content/uploads/2017/07/mans-search-for-meaning.pdf\u001b[0m                \n"
      ]
     },
     "metadata": {},
     "output_type": "display_data"
    },
    {
     "data": {
      "text/html": [
       "<pre style=\"white-space:pre;overflow-x:auto;line-height:normal;font-family:Menlo,'DejaVu Sans Mono',consolas,'Courier New',monospace\"><span style=\"color: #000080; text-decoration-color: #000080\">INFO    </span> Added <span style=\"color: #008080; text-decoration-color: #008080; font-weight: bold\">69</span> documents to knowledge base                                                                      \n",
       "</pre>\n"
      ],
      "text/plain": [
       "\u001b[34mINFO    \u001b[0m Added \u001b[1;36m69\u001b[0m documents to knowledge base                                                                      \n"
      ]
     },
     "metadata": {},
     "output_type": "display_data"
    }
   ],
   "source": [
    "knowledge_base.load()"
   ]
  },
  {
   "cell_type": "code",
   "execution_count": 16,
   "id": "cb7bdf6b-3270-43b7-9553-5b59c968ae4e",
   "metadata": {},
   "outputs": [],
   "source": [
    "agent = Agent(\n",
    "    model=Ollama(id=\"llama3.2:latest\"),\n",
    "    knowledge=knowledge_base,\n",
    "    show_tool_calls=True,\n",
    "    markdown=True,\n",
    ")"
   ]
  },
  {
   "cell_type": "code",
   "execution_count": 17,
   "id": "5df1c6e5-0c50-4669-8c03-df4d6f0aa3cf",
   "metadata": {},
   "outputs": [
    {
     "data": {
      "text/html": [
       "<pre style=\"white-space:pre;overflow-x:auto;line-height:normal;font-family:Menlo,'DejaVu Sans Mono',consolas,'Courier New',monospace\"><span style=\"color: #008000; text-decoration-color: #008000\">▰▰▰▰▱▱▱</span> Thinking...\n",
       "<span style=\"color: #008080; text-decoration-color: #008080\">┏━ Message ━━━━━━━━━━━━━━━━━━━━━━━━━━━━━━━━━━━━━━━━━━━━━━━━━━━━━━━━━━━━━━━━━━━━━━━━━━━━━━━━━━━━━━━━━━━━━━━━━━━━━━━┓</span>\n",
       "<span style=\"color: #008080; text-decoration-color: #008080\">┃</span>                                                                                                                 <span style=\"color: #008080; text-decoration-color: #008080\">┃</span>\n",
       "<span style=\"color: #008080; text-decoration-color: #008080\">┃</span> <span style=\"color: #008000; text-decoration-color: #008000\">What is the meaning of life?</span>                                                                                    <span style=\"color: #008080; text-decoration-color: #008080\">┃</span>\n",
       "<span style=\"color: #008080; text-decoration-color: #008080\">┃</span>                                                                                                                 <span style=\"color: #008080; text-decoration-color: #008080\">┃</span>\n",
       "<span style=\"color: #008080; text-decoration-color: #008080\">┗━━━━━━━━━━━━━━━━━━━━━━━━━━━━━━━━━━━━━━━━━━━━━━━━━━━━━━━━━━━━━━━━━━━━━━━━━━━━━━━━━━━━━━━━━━━━━━━━━━━━━━━━━━━━━━━━━┛</span>\n",
       "<span style=\"color: #000080; text-decoration-color: #000080\">┏━ Response (7.7s) ━━━━━━━━━━━━━━━━━━━━━━━━━━━━━━━━━━━━━━━━━━━━━━━━━━━━━━━━━━━━━━━━━━━━━━━━━━━━━━━━━━━━━━━━━━━━━━━┓</span>\n",
       "<span style=\"color: #000080; text-decoration-color: #000080\">┃</span>                                                                                                                 <span style=\"color: #000080; text-decoration-color: #000080\">┃</span>\n",
       "<span style=\"color: #000080; text-decoration-color: #000080\">┃</span>                                                                                                                 <span style=\"color: #000080; text-decoration-color: #000080\">┃</span>\n",
       "<span style=\"color: #000080; text-decoration-color: #000080\">┃</span> <span style=\"color: #808000; text-decoration-color: #808000; font-weight: bold\"> • </span>Running: search_knowledge_base(query=meaning of life)                                                        <span style=\"color: #000080; text-decoration-color: #000080\">┃</span>\n",
       "<span style=\"color: #000080; text-decoration-color: #000080\">┃</span>                                                                                                                 <span style=\"color: #000080; text-decoration-color: #000080\">┃</span>\n",
       "<span style=\"color: #000080; text-decoration-color: #000080\">┃</span> The text appears to be a collection of passages from Viktor Frankl's book \"Man's Search for Meaning\". The book  <span style=\"color: #000080; text-decoration-color: #000080\">┃</span>\n",
       "<span style=\"color: #000080; text-decoration-color: #000080\">┃</span> is a memoir and philosophical exploration of the author's experiences in Nazi concentration camps during World  <span style=\"color: #000080; text-decoration-color: #000080\">┃</span>\n",
       "<span style=\"color: #000080; text-decoration-color: #000080\">┃</span> War II.                                                                                                         <span style=\"color: #000080; text-decoration-color: #000080\">┃</span>\n",
       "<span style=\"color: #000080; text-decoration-color: #000080\">┃</span>                                                                                                                 <span style=\"color: #000080; text-decoration-color: #000080\">┃</span>\n",
       "<span style=\"color: #000080; text-decoration-color: #000080\">┃</span> The passages discuss various topics, including:                                                                 <span style=\"color: #000080; text-decoration-color: #000080\">┃</span>\n",
       "<span style=\"color: #000080; text-decoration-color: #000080\">┃</span>                                                                                                                 <span style=\"color: #000080; text-decoration-color: #000080\">┃</span>\n",
       "<span style=\"color: #000080; text-decoration-color: #000080\">┃</span> <span style=\"color: #808000; text-decoration-color: #808000; font-weight: bold\"> 1 </span>The search for meaning and purpose in life, particularly in the face of suffering and adversity.             <span style=\"color: #000080; text-decoration-color: #000080\">┃</span>\n",
       "<span style=\"color: #000080; text-decoration-color: #000080\">┃</span> <span style=\"color: #808000; text-decoration-color: #808000; font-weight: bold\"> 2 </span>The concept of logotherapy, which Frankl developed as a form of therapy that focuses on helping people find  <span style=\"color: #000080; text-decoration-color: #000080\">┃</span>\n",
       "<span style=\"color: #000080; text-decoration-color: #000080\">┃</span> <span style=\"color: #808000; text-decoration-color: #808000; font-weight: bold\">   </span>meaning and purpose in their lives.                                                                          <span style=\"color: #000080; text-decoration-color: #000080\">┃</span>\n",
       "<span style=\"color: #000080; text-decoration-color: #000080\">┃</span> <span style=\"color: #808000; text-decoration-color: #808000; font-weight: bold\"> 3 </span>The role of responsibility and existential vacuum in mental health issues such as depression, aggression,    <span style=\"color: #000080; text-decoration-color: #000080\">┃</span>\n",
       "<span style=\"color: #000080; text-decoration-color: #000080\">┃</span> <span style=\"color: #808000; text-decoration-color: #808000; font-weight: bold\">   </span>and addiction.                                                                                               <span style=\"color: #000080; text-decoration-color: #000080\">┃</span>\n",
       "<span style=\"color: #000080; text-decoration-color: #000080\">┃</span>                                                                                                                 <span style=\"color: #000080; text-decoration-color: #000080\">┃</span>\n",
       "<span style=\"color: #000080; text-decoration-color: #000080\">┃</span> The passages also discuss the importance of finding specific meaning and purpose in one's life, rather than     <span style=\"color: #000080; text-decoration-color: #000080\">┃</span>\n",
       "<span style=\"color: #000080; text-decoration-color: #000080\">┃</span> searching for an abstract or universal meaning. They suggest that individuals should focus on recognizing their <span style=\"color: #000080; text-decoration-color: #000080\">┃</span>\n",
       "<span style=\"color: #000080; text-decoration-color: #000080\">┃</span> own unique vocation or mission, and taking responsibility for answering to life by being responsible.           <span style=\"color: #000080; text-decoration-color: #000080\">┃</span>\n",
       "<span style=\"color: #000080; text-decoration-color: #000080\">┃</span>                                                                                                                 <span style=\"color: #000080; text-decoration-color: #000080\">┃</span>\n",
       "<span style=\"color: #000080; text-decoration-color: #000080\">┃</span> Overall, the text appears to be a philosophical and psychological exploration of the human search for meaning   <span style=\"color: #000080; text-decoration-color: #000080\">┃</span>\n",
       "<span style=\"color: #000080; text-decoration-color: #000080\">┃</span> and purpose, with a focus on the importance of individual responsibility and logotherapy.                       <span style=\"color: #000080; text-decoration-color: #000080\">┃</span>\n",
       "<span style=\"color: #000080; text-decoration-color: #000080\">┃</span>                                                                                                                 <span style=\"color: #000080; text-decoration-color: #000080\">┃</span>\n",
       "<span style=\"color: #000080; text-decoration-color: #000080\">┗━━━━━━━━━━━━━━━━━━━━━━━━━━━━━━━━━━━━━━━━━━━━━━━━━━━━━━━━━━━━━━━━━━━━━━━━━━━━━━━━━━━━━━━━━━━━━━━━━━━━━━━━━━━━━━━━━┛</span>\n",
       "</pre>\n"
      ],
      "text/plain": [
       "\u001b[32m▰▰▰▰▱▱▱\u001b[0m Thinking...\n",
       "\u001b[36m┏━\u001b[0m\u001b[36m Message \u001b[0m\u001b[36m━━━━━━━━━━━━━━━━━━━━━━━━━━━━━━━━━━━━━━━━━━━━━━━━━━━━━━━━━━━━━━━━━━━━━━━━━━━━━━━━━━━━━━━━━━━━━━━━━━━━━━\u001b[0m\u001b[36m━┓\u001b[0m\n",
       "\u001b[36m┃\u001b[0m                                                                                                                 \u001b[36m┃\u001b[0m\n",
       "\u001b[36m┃\u001b[0m \u001b[32mWhat is the meaning of life?\u001b[0m                                                                                    \u001b[36m┃\u001b[0m\n",
       "\u001b[36m┃\u001b[0m                                                                                                                 \u001b[36m┃\u001b[0m\n",
       "\u001b[36m┗━━━━━━━━━━━━━━━━━━━━━━━━━━━━━━━━━━━━━━━━━━━━━━━━━━━━━━━━━━━━━━━━━━━━━━━━━━━━━━━━━━━━━━━━━━━━━━━━━━━━━━━━━━━━━━━━━┛\u001b[0m\n",
       "\u001b[34m┏━\u001b[0m\u001b[34m Response (7.7s) \u001b[0m\u001b[34m━━━━━━━━━━━━━━━━━━━━━━━━━━━━━━━━━━━━━━━━━━━━━━━━━━━━━━━━━━━━━━━━━━━━━━━━━━━━━━━━━━━━━━━━━━━━━━\u001b[0m\u001b[34m━┓\u001b[0m\n",
       "\u001b[34m┃\u001b[0m                                                                                                                 \u001b[34m┃\u001b[0m\n",
       "\u001b[34m┃\u001b[0m                                                                                                                 \u001b[34m┃\u001b[0m\n",
       "\u001b[34m┃\u001b[0m \u001b[1;33m • \u001b[0mRunning: search_knowledge_base(query=meaning of life)                                                        \u001b[34m┃\u001b[0m\n",
       "\u001b[34m┃\u001b[0m                                                                                                                 \u001b[34m┃\u001b[0m\n",
       "\u001b[34m┃\u001b[0m The text appears to be a collection of passages from Viktor Frankl's book \"Man's Search for Meaning\". The book  \u001b[34m┃\u001b[0m\n",
       "\u001b[34m┃\u001b[0m is a memoir and philosophical exploration of the author's experiences in Nazi concentration camps during World  \u001b[34m┃\u001b[0m\n",
       "\u001b[34m┃\u001b[0m War II.                                                                                                         \u001b[34m┃\u001b[0m\n",
       "\u001b[34m┃\u001b[0m                                                                                                                 \u001b[34m┃\u001b[0m\n",
       "\u001b[34m┃\u001b[0m The passages discuss various topics, including:                                                                 \u001b[34m┃\u001b[0m\n",
       "\u001b[34m┃\u001b[0m                                                                                                                 \u001b[34m┃\u001b[0m\n",
       "\u001b[34m┃\u001b[0m \u001b[1;33m 1 \u001b[0mThe search for meaning and purpose in life, particularly in the face of suffering and adversity.             \u001b[34m┃\u001b[0m\n",
       "\u001b[34m┃\u001b[0m \u001b[1;33m 2 \u001b[0mThe concept of logotherapy, which Frankl developed as a form of therapy that focuses on helping people find  \u001b[34m┃\u001b[0m\n",
       "\u001b[34m┃\u001b[0m \u001b[1;33m   \u001b[0mmeaning and purpose in their lives.                                                                          \u001b[34m┃\u001b[0m\n",
       "\u001b[34m┃\u001b[0m \u001b[1;33m 3 \u001b[0mThe role of responsibility and existential vacuum in mental health issues such as depression, aggression,    \u001b[34m┃\u001b[0m\n",
       "\u001b[34m┃\u001b[0m \u001b[1;33m   \u001b[0mand addiction.                                                                                               \u001b[34m┃\u001b[0m\n",
       "\u001b[34m┃\u001b[0m                                                                                                                 \u001b[34m┃\u001b[0m\n",
       "\u001b[34m┃\u001b[0m The passages also discuss the importance of finding specific meaning and purpose in one's life, rather than     \u001b[34m┃\u001b[0m\n",
       "\u001b[34m┃\u001b[0m searching for an abstract or universal meaning. They suggest that individuals should focus on recognizing their \u001b[34m┃\u001b[0m\n",
       "\u001b[34m┃\u001b[0m own unique vocation or mission, and taking responsibility for answering to life by being responsible.           \u001b[34m┃\u001b[0m\n",
       "\u001b[34m┃\u001b[0m                                                                                                                 \u001b[34m┃\u001b[0m\n",
       "\u001b[34m┃\u001b[0m Overall, the text appears to be a philosophical and psychological exploration of the human search for meaning   \u001b[34m┃\u001b[0m\n",
       "\u001b[34m┃\u001b[0m and purpose, with a focus on the importance of individual responsibility and logotherapy.                       \u001b[34m┃\u001b[0m\n",
       "\u001b[34m┃\u001b[0m                                                                                                                 \u001b[34m┃\u001b[0m\n",
       "\u001b[34m┗━━━━━━━━━━━━━━━━━━━━━━━━━━━━━━━━━━━━━━━━━━━━━━━━━━━━━━━━━━━━━━━━━━━━━━━━━━━━━━━━━━━━━━━━━━━━━━━━━━━━━━━━━━━━━━━━━┛\u001b[0m\n"
      ]
     },
     "metadata": {},
     "output_type": "display_data"
    },
    {
     "data": {
      "text/html": [
       "<pre style=\"white-space:pre;overflow-x:auto;line-height:normal;font-family:Menlo,'DejaVu Sans Mono',consolas,'Courier New',monospace\"></pre>\n"
      ],
      "text/plain": []
     },
     "metadata": {},
     "output_type": "display_data"
    }
   ],
   "source": [
    "agent.print_response(\"What is the meaning of life?\", stream=True)"
   ]
  }
 ],
 "metadata": {
  "kernelspec": {
   "display_name": "Python 3 (ipykernel)",
   "language": "python",
   "name": "python3"
  },
  "language_info": {
   "codemirror_mode": {
    "name": "ipython",
    "version": 3
   },
   "file_extension": ".py",
   "mimetype": "text/x-python",
   "name": "python",
   "nbconvert_exporter": "python",
   "pygments_lexer": "ipython3",
   "version": "3.12.2"
  }
 },
 "nbformat": 4,
 "nbformat_minor": 5
}

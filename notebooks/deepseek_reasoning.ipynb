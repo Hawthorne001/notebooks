{
  "nbformat": 4,
  "nbformat_minor": 0,
  "metadata": {
    "colab": {
      "provenance": []
    },
    "kernelspec": {
      "name": "python3",
      "display_name": "Python 3"
    },
    "language_info": {
      "name": "python"
    }
  },
  "cells": [
    {
      "cell_type": "code",
      "source": [
        "!pip install openai -qU"
      ],
      "metadata": {
        "colab": {
          "base_uri": "https://localhost:8080/"
        },
        "id": "X9wCD5c64hcW",
        "outputId": "ea8c1a4d-3f34-45b9-b029-16e32069cd93"
      },
      "execution_count": null,
      "outputs": [
        {
          "output_type": "stream",
          "name": "stdout",
          "text": [
            "\u001b[?25l   \u001b[90m━━━━━━━━━━━━━━━━━━━━━━━━━━━━━━━━━━━━━━━━\u001b[0m \u001b[32m0.0/456.1 kB\u001b[0m \u001b[31m?\u001b[0m eta \u001b[36m-:--:--\u001b[0m\r\u001b[2K   \u001b[90m━━━━━━━━━━━━━━━━━━━━━━━━━━━━━━━━━━━━━━━━\u001b[0m \u001b[32m456.1/456.1 kB\u001b[0m \u001b[31m25.0 MB/s\u001b[0m eta \u001b[36m0:00:00\u001b[0m\n",
            "\u001b[?25h"
          ]
        }
      ]
    },
    {
      "cell_type": "code",
      "source": [
        "reasoning_prompt = \"\"\"\n",
        "\n",
        "Give me a workout and vegan diet plan for health.\n",
        "\n",
        "The plan should be comprehensive and tailored to promote overall well-being. For the workout plan, include the following details:\n",
        "\n",
        "1. **Type of exercises** (e.g., cardio, strength training, flexibility)\n",
        "2. **Duration of each session**\n",
        "3. **Frequency per week**\n",
        "4. **Equipment needed** (if any)\n",
        "5. **Tips for staying motivated**\n",
        "\n",
        "For the vegan diet plan, include the following details:\n",
        "\n",
        "1. **Sample daily meal plan** (breakfast, lunch, dinner, snacks)\n",
        "2. **Key nutrients to focus on** (e.g., protein, iron, B12)\n",
        "3. **Recipe suggestions**\n",
        "4. **Tips for meal prep and variety**\n",
        "\n",
        "Ensure that both the workout and diet plans are balanced, sustainable, and suitable for all genders.\n",
        "\n",
        "**Context:**\n",
        "\n",
        "I am looking to improve my overall health and fitness through a combination of regular exercise and a plant-based diet. I prefer gender-neutral recommendations that are inclusive and easy to follow. I am interested in a variety of exercises that can be done at home or in a gym, and I want a vegan diet plan that is nutritious and satisfying. I am open to trying new recipes and meal prep strategies to keep things interesting.\n",
        "\n",
        "**Goal:**\n",
        "\n",
        "- Provide a well-structured workout plan that includes different types of exercises.\n",
        "- Offer a detailed vegan diet plan with a focus on key nutrients.\n",
        "- Ensure both plans are practical and easy to follow.\n",
        "\n",
        "**Warnings:**\n",
        "\n",
        "- Avoid overly complex exercises that require specialized equipment.\n",
        "- Ensure the diet plan is nutritionally balanced and provides all essential nutrients.\n",
        "\"\"\""
      ],
      "metadata": {
        "id": "2yOmpItY4jF8"
      },
      "execution_count": null,
      "outputs": []
    },
    {
      "cell_type": "code",
      "source": [
        "from openai import OpenAI\n",
        "client = OpenAI(api_key=\"YOUR_KEY\", base_url=\"https://api.deepseek.com\")"
      ],
      "metadata": {
        "id": "c6UkTpSH7MOC"
      },
      "execution_count": null,
      "outputs": []
    },
    {
      "cell_type": "code",
      "source": [
        "messages = [{\"role\": \"user\", \"content\":reasoning_prompt}]\n",
        "response = client.chat.completions.create(\n",
        "    model=\"deepseek-reasoner\",\n",
        "    messages=messages,\n",
        "    stream=True\n",
        ")"
      ],
      "metadata": {
        "id": "pzjRHAck8Spc"
      },
      "execution_count": null,
      "outputs": []
    },
    {
      "cell_type": "code",
      "source": [
        "reasoning_content = \"\"\n",
        "content = \"\"\n",
        "\n",
        "for chunk in response:\n",
        "    if chunk.choices[0].delta.reasoning_content:\n",
        "        reasoning_content += chunk.choices[0].delta.reasoning_content\n",
        "    else:\n",
        "        content += str(chunk.choices[0].delta.content)"
      ],
      "metadata": {
        "id": "bRQgsL6_4pFP"
      },
      "execution_count": null,
      "outputs": []
    },
    {
      "cell_type": "code",
      "source": [
        "reasoning_content"
      ],
      "metadata": {
        "colab": {
          "base_uri": "https://localhost:8080/",
          "height": 192
        },
        "id": "mLltQWY-8mtm",
        "outputId": "3820a450-b768-4f33-8c9f-0ec0e9f9d6ff"
      },
      "execution_count": null,
      "outputs": [
        {
          "output_type": "execute_result",
          "data": {
            "text/plain": [
              "\"Okay, let's tackle this query. The user wants a comprehensive workout and vegan diet plan tailored for overall well-being. First, I need to make sure both plans are balanced, sustainable, and gender-neutral. \\n\\nStarting with the workout plan: they mentioned including types of exercises like cardio, strength, flexibility. So, maybe split the week into different days focusing on each type. Let's see, 5 days a week seems manageable. Maybe alternate between cardio and strength, with flexibility on rest days. Equipment should be minimal—resistance bands, dumbbells if possible, but bodyweight exercises are key. Motivation tips could be setting goals, tracking progress, maybe a workout buddy.\\n\\nNow the diet plan: needs a daily meal plan with breakfast, lunch, dinner, snacks. Key nutrients for vegans are protein, iron, B12, calcium, omega-3s. So, include foods like lentils, tofu, spinach, fortified plant milk. Recipes should be simple, like chickpea stir-fry or lentil curry. Meal prep tips—batch cooking, using versatile ingredients. Need to ensure variety to keep it interesting, maybe suggest different spices or rotating proteins.\\n\\nWait, the user wants it practical and easy. Avoid complex exercises; maybe include modifications for different fitness levels. For the diet, make sure the meals are easy to prepare, maybe some overnight oats or smoothies for breakfast. Check if all nutrients are covered, especially B12 which might require a supplement. Also, mention hydration and maybe a multivitamin if needed.\\n\\nNeed to structure both plans clearly. For workouts, break down each day with exercise type, duration, frequency. For diet, list each meal with examples and recipes. Make sure the tips address motivation and meal prep. Ensure inclusivity by keeping language neutral and options modifiable. Double-check that there's no specialized equipment and the diet is nutritionally balanced. Yeah, that should cover it. Let me put it all together now.\""
            ],
            "application/vnd.google.colaboratory.intrinsic+json": {
              "type": "string"
            }
          },
          "metadata": {},
          "execution_count": 11
        }
      ]
    },
    {
      "cell_type": "code",
      "source": [
        "from IPython.display import Markdown\n",
        "Markdown(content)"
      ],
      "metadata": {
        "colab": {
          "base_uri": "https://localhost:8080/",
          "height": 1000
        },
        "id": "HExyzvoH8p7R",
        "outputId": "81069ebe-a91d-43ae-aafd-17af9310f1ff"
      },
      "execution_count": null,
      "outputs": [
        {
          "output_type": "execute_result",
          "data": {
            "text/plain": [
              "<IPython.core.display.Markdown object>"
            ],
            "text/markdown": "### **Comprehensive Workout Plan**  \nDesigned to improve cardiovascular health, strength, and flexibility while being accessible for all fitness levels.  \n\n#### **Type of Exercises**  \n1. **Cardio**: Running, cycling, jump rope, or brisk walking.  \n2. **Strength Training**: Bodyweight exercises (push-ups, squats, lunges) or resistance bands/dumbbells (if available).  \n3. **Flexibility/Mobility**: Yoga or dynamic stretching.  \n\n#### **Weekly Schedule**  \n| **Day**       | **Exercise Type**       | **Duration** | **Frequency** |  \n|---------------|-------------------------|--------------|---------------|  \n| **Monday**    | Strength Training       | 30–40 mins   | 3x/week       |  \n| **Tuesday**   | Cardio                  | 30–45 mins   | 3x/week       |  \n| **Wednesday** | Yoga/Stretching         | 20–30 mins   | 2x/week       |  \n| **Thursday**  | Strength Training       | 30–40 mins   |               |  \n| **Friday**    | Cardio                  | 30–45 mins   |               |  \n| **Saturday**  | Active Recovery (walk, gentle yoga) | 20–30 mins | 1x/week |  \n| **Sunday**    | Rest                    | –            | –             |  \n\n#### **Equipment Needed**  \n- Optional: Resistance bands, yoga mat, dumbbells (or substitute with water bottles/sandbags).  \n\n#### **Tips for Staying Motivated**  \n- Track progress with a journal or app (e.g., Strava, MyFitnessPal).  \n- Mix up workouts (e.g., try HIIT for cardio, follow YouTube yoga tutorials).  \n- Pair exercise with a podcast or playlist to stay engaged.  \n- Set small, achievable goals (e.g., \"10 push-ups daily\").  \n\n---\n\n### **Balanced Vegan Diet Plan**  \nFocused on nutrient density, variety, and satisfaction.  \n\n#### **Sample Daily Meal Plan**  \n**Breakfast**:  \n- Overnight oats with chia seeds, almond milk, berries, and walnuts.  \n- *OR* Tofu scramble with spinach, turmeric, and whole-grain toast.  \n\n**Lunch**:  \n- Quinoa salad with chickpeas, roasted veggies (bell peppers, zucchini), avocado, and tahini dressing.  \n- *OR* Lentil soup with a side of steamed kale and whole-grain bread.  \n\n**Dinner**:  \n- Stir-fried tofu/tempeh with broccoli, brown rice, and sesame-ginger sauce.  \n- *OR* Black bean tacos with corn tortillas, salsa, and shredded cabbage.  \n\n**Snacks**:  \n- Apple slices with peanut butter.  \n- Roasted edamame or mixed nuts.  \n- Hummus with carrot sticks.  \n\n#### **Key Nutrients to Focus On**  \n1. **Protein**: Lentils, tofu, tempeh, edamame, quinoa.  \n2. **Iron**: Spinach, lentils, fortified cereals (pair with vitamin C-rich foods like citrus for absorption).  \n3. **B12**: Fortified plant milks, nutritional yeast, or supplements.  \n4. **Calcium**: Kale, fortified tofu, almond butter.  \n5. **Omega-3s**: Flaxseeds, walnuts, chia seeds.  \n\n#### **Recipe Suggestions**  \n- **Chickpea Buddha Bowl**: Mix roasted chickpeas, quinoa, roasted sweet potatoes, and tahini sauce.  \n- **Lentil & Sweet Potato Curry**: Simmer lentils, coconut milk, curry spices, and sweet potatoes. Serve with brown rice.  \n\n#### **Meal Prep Tips**  \n- Batch-cook grains (quinoa, brown rice) and legumes (lentils, beans) for the week.  \n- Pre-chop veggies for stir-fries or salads.  \n- Use versatile ingredients (e.g., tofu can be baked, scrambled, or stir-fried).  \n- Freeze leftovers (e.g., soups, curries) for quick meals.  \n\n#### **Additional Tips**  \n- Stay hydrated with water/herbal teas.  \n- Add variety with spices (e.g., smoked paprika, cumin) or global cuisines (e.g., Mediterranean, Asian).  \n- Consider a daily vegan multivitamin to cover B12 and D3.  \n\n---\n\n### **Sustainability & Balance**  \n- **Workout**: Adjust intensity based on energy levels; prioritize consistency over perfection.  \n- **Diet**: Rotate protein sources and experiment with new recipes weekly to avoid boredom.  \n\nBoth plans prioritize simplicity, inclusivity, and long-term adherence. Let me know if you’d like more specific modifications! 🌱💪"
          },
          "metadata": {},
          "execution_count": 13
        }
      ]
    }
  ]
}